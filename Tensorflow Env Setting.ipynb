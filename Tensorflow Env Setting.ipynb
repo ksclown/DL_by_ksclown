{
 "cells": [
  {
   "cell_type": "markdown",
   "metadata": {},
   "source": [
    "<span style=\"color:grey\"> By Seongchan Kang </span>\n",
    "\n",
    "# 딥러닝 Tensorflow 환경 설정\n",
    "\n",
    "우선 자기 컴퓨터 환경을 확인할 필요가 있음\n",
    "\n",
    "환경 세팅을 위한 Cuda는 NVIDIA를 지원함. 고로 미리 확인할 필요가 있음.\n",
    "\n",
    "자신의 컴퓨터의 GPU는 작업관리자 - (자세히가 안켜져있으면 자세히) - 성능 - GPU 클릭 - 우상단 GPU(그래픽 이름) 확인\n",
    "\n",
    "그래픽을 확인하셨다면 다음 URL(<span> https://www.tensorflow.org/install/source_windows </span>)로 들어가서 \"테스트된 빌드 구성\"에서 파이썬과 텐서플로우 버전 매칭을 해봐야함\n",
    "\n",
    "참고 : <span> https://mingchin.tistory.com/5 </span>"
   ]
  },
  {
   "cell_type": "code",
   "execution_count": null,
   "metadata": {},
   "outputs": [],
   "source": []
  },
  {
   "cell_type": "markdown",
   "metadata": {},
   "source": [
    "한가지 쉬운 방법이 있음"
   ]
  },
  {
   "cell_type": "markdown",
   "metadata": {},
   "source": []
  }
 ],
 "metadata": {
  "kernelspec": {
   "display_name": "Python 3.10.1 64-bit",
   "language": "python",
   "name": "python3"
  },
  "language_info": {
   "name": "python",
   "version": "3.10.1"
  },
  "orig_nbformat": 4,
  "vscode": {
   "interpreter": {
    "hash": "c5c2c3c852cea3612ae75d7177c7db88d742ce4c76218675a91b833287f5ecf2"
   }
  }
 },
 "nbformat": 4,
 "nbformat_minor": 2
}
