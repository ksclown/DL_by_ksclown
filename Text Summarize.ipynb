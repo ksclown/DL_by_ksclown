{
 "cells": [
  {
   "cell_type": "markdown",
   "metadata": {},
   "source": [
    "<span style=\\\"color:grey\\\"> By Seongchan Kang </span>\n",
    "\n",
    "<span style=\\\"color:grey\\\"> Version : Python 3.10.1 in Window </span>\n",
    "\n",
    "# Text Summarize 실습\n",
    "\n",
    "## 전체적인 과정"
   ]
  },
  {
   "cell_type": "code",
   "execution_count": null,
   "metadata": {},
   "outputs": [],
   "source": [
    "# "
   ]
  }
 ],
 "metadata": {
  "language_info": {
   "name": "python"
  },
  "orig_nbformat": 4
 },
 "nbformat": 4,
 "nbformat_minor": 2
}
