{
 "cells": [
  {
   "cell_type": "markdown",
   "metadata": {},
   "source": [
    "<span style=\"color:grey\"> By Seongchan Kang </span>\n",
    "\n",
    "<span style=\"color:grey\"> Version : Python 3.10.1 in Window </span>\n",
    "\n",
    "# Text Summarize 실습\n",
    "\n",
    "아마존 리뷰 데이터를 통해 긴 텍스트를 문장에서 요약하는 딥러닝 모델을 만들기\n",
    "\n",
    "트랜스포머(어택션)를 활용하여 적용\n",
    "\n",
    "데이터는 캐글에서 가져옴 (URL : <span> https://www.kaggle.com/snap/amazon-fine-food-reviews </span>)\n",
    "\n",
    "그외 참고 사이트\n",
    " - <span> https://wikidocs.net/24996 </span>\n",
    " - <span> https://settlelib.tistory.com/56 </span>\n",
    " - <span> https://towardsdatascience.com/text-normalization-for-natural-language-processing-nlp-70a314bfa646 </span>\n",
    " - <span> https://glee1228.tistory.com/3 </span>\n",
    "\n",
    "\n",
    "# 대략적인 과정\n",
    "\n",
    "1. 텍스트 데이터 가져오기\n",
    "\n",
    "2. 텍스트 데이터 전처리  \n",
    "\n",
    "3. 딥러닝 모델 설계\n",
    "\n",
    "4. 어택션 메커니즘 적용\n",
    "\n",
    "5. 평가 및 적용\n",
    "\n",
    "# Seq2Seq 와 어택션 메커니즘\n",
    "\n",
    "기존 seq2seq은 디코더를 고정된 사이즈의 Context Vector로 받아 인코더로 변환하는 것\n",
    "\n",
    "하지만 이 모델의 단점은 사이즈가 커지면 모든 정보를 담지 못한다는 것이 있음\n",
    "\n",
    "어택션 메커니즘은 이 모델의 한계를 해결하기 위한 방안\n",
    "\n",
    "그래서 어택션 메커니즘에 대해 간단히 말하면 각각의 입력되는 데이터에 가중치를 더하는 방법\n",
    "\n",
    "집중해야할 단어에 대한 메커니즘에 대한 설계가 가능해짐\n",
    "\n",
    "이런 전체적인 메커니즘을 가능하게 하기 위해 값이 잘못된 방향을 가고 있을 때 다시 정답으로 넣어 주는 과정이 필요 (Teacher Forcing이라고 함)\n",
    "\n",
    "이것(Teacher Forcing)이 모델의 학습과 효율을 향상 시킴\n",
    "\n",
    "\n",
    "## 데이터 가져오기\n",
    "\n",
    "모든 데이터를 한번에 학습시키고 모델링하면 시간이 오랙 걸림\n",
    "\n",
    "그래서 1000개의 데이터만 우선 뽑아서 실습\n",
    "\n",
    "변수 설명\n",
    "- 'Id' : 단순 넘버링을 위한 값\n",
    "- 'ProductId' : 아마존에서 파는 제품의 번호\n",
    "- 'UserId' : 암호화된 유저 아이디\n",
    "- 'ProfileName' : 유저의 닉네임\n",
    "- 'HelpfulnessNumerator' : 리뷰를 본 사람들 중에 이 리뷰가 유용하다고 한 사람의 수\n",
    "- 'HelpfulnessDenominator' : 리뷰를 본 전체 사람의 수\n",
    "- 'Score' : 리뷰어가 남긴 점수\n",
    "- 'Time' : 리뷰어가 리뷰를 작성한 시점의 시간(Unix timestamp)(https://www.daleseo.com/python-time/)\n",
    "- 'Summary' : \"Text\"변수를 요약한 것\n",
    "- 'Text' : Reriews 본문"
   ]
  },
  {
   "cell_type": "code",
   "execution_count": 1,
   "metadata": {},
   "outputs": [],
   "source": [
    "# 기본 라이브러리 불러오기\n",
    "import numpy as np\n",
    "import pandas as pd\n",
    "import matplotlib.pyplot as plt"
   ]
  },
  {
   "cell_type": "code",
   "execution_count": 2,
   "metadata": {},
   "outputs": [
    {
     "data": {
      "text/html": [
       "<div>\n",
       "<style scoped>\n",
       "    .dataframe tbody tr th:only-of-type {\n",
       "        vertical-align: middle;\n",
       "    }\n",
       "\n",
       "    .dataframe tbody tr th {\n",
       "        vertical-align: top;\n",
       "    }\n",
       "\n",
       "    .dataframe thead th {\n",
       "        text-align: right;\n",
       "    }\n",
       "</style>\n",
       "<table border=\"1\" class=\"dataframe\">\n",
       "  <thead>\n",
       "    <tr style=\"text-align: right;\">\n",
       "      <th></th>\n",
       "      <th>Id</th>\n",
       "      <th>ProductId</th>\n",
       "      <th>UserId</th>\n",
       "      <th>ProfileName</th>\n",
       "      <th>HelpfulnessNumerator</th>\n",
       "      <th>HelpfulnessDenominator</th>\n",
       "      <th>Score</th>\n",
       "      <th>Time</th>\n",
       "      <th>Summary</th>\n",
       "      <th>Text</th>\n",
       "    </tr>\n",
       "  </thead>\n",
       "  <tbody>\n",
       "    <tr>\n",
       "      <th>0</th>\n",
       "      <td>1</td>\n",
       "      <td>B001E4KFG0</td>\n",
       "      <td>A3SGXH7AUHU8GW</td>\n",
       "      <td>delmartian</td>\n",
       "      <td>1</td>\n",
       "      <td>1</td>\n",
       "      <td>5</td>\n",
       "      <td>1303862400</td>\n",
       "      <td>Good Quality Dog Food</td>\n",
       "      <td>I have bought several of the Vitality canned d...</td>\n",
       "    </tr>\n",
       "    <tr>\n",
       "      <th>1</th>\n",
       "      <td>2</td>\n",
       "      <td>B00813GRG4</td>\n",
       "      <td>A1D87F6ZCVE5NK</td>\n",
       "      <td>dll pa</td>\n",
       "      <td>0</td>\n",
       "      <td>0</td>\n",
       "      <td>1</td>\n",
       "      <td>1346976000</td>\n",
       "      <td>Not as Advertised</td>\n",
       "      <td>Product arrived labeled as Jumbo Salted Peanut...</td>\n",
       "    </tr>\n",
       "    <tr>\n",
       "      <th>2</th>\n",
       "      <td>3</td>\n",
       "      <td>B000LQOCH0</td>\n",
       "      <td>ABXLMWJIXXAIN</td>\n",
       "      <td>Natalia Corres \"Natalia Corres\"</td>\n",
       "      <td>1</td>\n",
       "      <td>1</td>\n",
       "      <td>4</td>\n",
       "      <td>1219017600</td>\n",
       "      <td>\"Delight\" says it all</td>\n",
       "      <td>This is a confection that has been around a fe...</td>\n",
       "    </tr>\n",
       "    <tr>\n",
       "      <th>3</th>\n",
       "      <td>4</td>\n",
       "      <td>B000UA0QIQ</td>\n",
       "      <td>A395BORC6FGVXV</td>\n",
       "      <td>Karl</td>\n",
       "      <td>3</td>\n",
       "      <td>3</td>\n",
       "      <td>2</td>\n",
       "      <td>1307923200</td>\n",
       "      <td>Cough Medicine</td>\n",
       "      <td>If you are looking for the secret ingredient i...</td>\n",
       "    </tr>\n",
       "    <tr>\n",
       "      <th>4</th>\n",
       "      <td>5</td>\n",
       "      <td>B006K2ZZ7K</td>\n",
       "      <td>A1UQRSCLF8GW1T</td>\n",
       "      <td>Michael D. Bigham \"M. Wassir\"</td>\n",
       "      <td>0</td>\n",
       "      <td>0</td>\n",
       "      <td>5</td>\n",
       "      <td>1350777600</td>\n",
       "      <td>Great taffy</td>\n",
       "      <td>Great taffy at a great price.  There was a wid...</td>\n",
       "    </tr>\n",
       "    <tr>\n",
       "      <th>...</th>\n",
       "      <td>...</td>\n",
       "      <td>...</td>\n",
       "      <td>...</td>\n",
       "      <td>...</td>\n",
       "      <td>...</td>\n",
       "      <td>...</td>\n",
       "      <td>...</td>\n",
       "      <td>...</td>\n",
       "      <td>...</td>\n",
       "      <td>...</td>\n",
       "    </tr>\n",
       "    <tr>\n",
       "      <th>995</th>\n",
       "      <td>996</td>\n",
       "      <td>B006F2NYI2</td>\n",
       "      <td>A1D3F6UI1RTXO0</td>\n",
       "      <td>Swopes</td>\n",
       "      <td>1</td>\n",
       "      <td>1</td>\n",
       "      <td>5</td>\n",
       "      <td>1331856000</td>\n",
       "      <td>Hot &amp; Flavorful</td>\n",
       "      <td>BLACK MARKET HOT SAUCE IS WONDERFUL.... My hus...</td>\n",
       "    </tr>\n",
       "    <tr>\n",
       "      <th>996</th>\n",
       "      <td>997</td>\n",
       "      <td>B006F2NYI2</td>\n",
       "      <td>AF50D40Y85TV3</td>\n",
       "      <td>Mike A.</td>\n",
       "      <td>1</td>\n",
       "      <td>1</td>\n",
       "      <td>5</td>\n",
       "      <td>1328140800</td>\n",
       "      <td>Great Hot Sauce and people who run it!</td>\n",
       "      <td>Man what can i say, this salsa is the bomb!! i...</td>\n",
       "    </tr>\n",
       "    <tr>\n",
       "      <th>997</th>\n",
       "      <td>998</td>\n",
       "      <td>B006F2NYI2</td>\n",
       "      <td>A3G313KLWDG3PW</td>\n",
       "      <td>kefka82</td>\n",
       "      <td>1</td>\n",
       "      <td>1</td>\n",
       "      <td>5</td>\n",
       "      <td>1324252800</td>\n",
       "      <td>this sauce is the shiznit</td>\n",
       "      <td>this sauce is so good with just about anything...</td>\n",
       "    </tr>\n",
       "    <tr>\n",
       "      <th>998</th>\n",
       "      <td>999</td>\n",
       "      <td>B006F2NYI2</td>\n",
       "      <td>A3NIDDT7E7JIFW</td>\n",
       "      <td>V. B. Brookshaw</td>\n",
       "      <td>1</td>\n",
       "      <td>2</td>\n",
       "      <td>1</td>\n",
       "      <td>1336089600</td>\n",
       "      <td>Not Hot</td>\n",
       "      <td>Not hot at all. Like the other low star review...</td>\n",
       "    </tr>\n",
       "    <tr>\n",
       "      <th>999</th>\n",
       "      <td>1000</td>\n",
       "      <td>B006F2NYI2</td>\n",
       "      <td>A132DJVI37RB4X</td>\n",
       "      <td>Scottdrum</td>\n",
       "      <td>2</td>\n",
       "      <td>5</td>\n",
       "      <td>2</td>\n",
       "      <td>1332374400</td>\n",
       "      <td>Not hot, not habanero</td>\n",
       "      <td>I have to admit, I was a sucker for the large ...</td>\n",
       "    </tr>\n",
       "  </tbody>\n",
       "</table>\n",
       "<p>1000 rows × 10 columns</p>\n",
       "</div>"
      ],
      "text/plain": [
       "       Id   ProductId          UserId                      ProfileName  \\\n",
       "0       1  B001E4KFG0  A3SGXH7AUHU8GW                       delmartian   \n",
       "1       2  B00813GRG4  A1D87F6ZCVE5NK                           dll pa   \n",
       "2       3  B000LQOCH0   ABXLMWJIXXAIN  Natalia Corres \"Natalia Corres\"   \n",
       "3       4  B000UA0QIQ  A395BORC6FGVXV                             Karl   \n",
       "4       5  B006K2ZZ7K  A1UQRSCLF8GW1T    Michael D. Bigham \"M. Wassir\"   \n",
       "..    ...         ...             ...                              ...   \n",
       "995   996  B006F2NYI2  A1D3F6UI1RTXO0                           Swopes   \n",
       "996   997  B006F2NYI2   AF50D40Y85TV3                          Mike A.   \n",
       "997   998  B006F2NYI2  A3G313KLWDG3PW                          kefka82   \n",
       "998   999  B006F2NYI2  A3NIDDT7E7JIFW                  V. B. Brookshaw   \n",
       "999  1000  B006F2NYI2  A132DJVI37RB4X                        Scottdrum   \n",
       "\n",
       "     HelpfulnessNumerator  HelpfulnessDenominator  Score        Time  \\\n",
       "0                       1                       1      5  1303862400   \n",
       "1                       0                       0      1  1346976000   \n",
       "2                       1                       1      4  1219017600   \n",
       "3                       3                       3      2  1307923200   \n",
       "4                       0                       0      5  1350777600   \n",
       "..                    ...                     ...    ...         ...   \n",
       "995                     1                       1      5  1331856000   \n",
       "996                     1                       1      5  1328140800   \n",
       "997                     1                       1      5  1324252800   \n",
       "998                     1                       2      1  1336089600   \n",
       "999                     2                       5      2  1332374400   \n",
       "\n",
       "                                    Summary  \\\n",
       "0                     Good Quality Dog Food   \n",
       "1                         Not as Advertised   \n",
       "2                     \"Delight\" says it all   \n",
       "3                            Cough Medicine   \n",
       "4                               Great taffy   \n",
       "..                                      ...   \n",
       "995                         Hot & Flavorful   \n",
       "996  Great Hot Sauce and people who run it!   \n",
       "997               this sauce is the shiznit   \n",
       "998                                 Not Hot   \n",
       "999                   Not hot, not habanero   \n",
       "\n",
       "                                                  Text  \n",
       "0    I have bought several of the Vitality canned d...  \n",
       "1    Product arrived labeled as Jumbo Salted Peanut...  \n",
       "2    This is a confection that has been around a fe...  \n",
       "3    If you are looking for the secret ingredient i...  \n",
       "4    Great taffy at a great price.  There was a wid...  \n",
       "..                                                 ...  \n",
       "995  BLACK MARKET HOT SAUCE IS WONDERFUL.... My hus...  \n",
       "996  Man what can i say, this salsa is the bomb!! i...  \n",
       "997  this sauce is so good with just about anything...  \n",
       "998  Not hot at all. Like the other low star review...  \n",
       "999  I have to admit, I was a sucker for the large ...  \n",
       "\n",
       "[1000 rows x 10 columns]"
      ]
     },
     "execution_count": 2,
     "metadata": {},
     "output_type": "execute_result"
    }
   ],
   "source": [
    "review_df = pd.read_csv(\"Reviews.csv\", nrows = 1000)\n",
    "review_df"
   ]
  },
  {
   "cell_type": "code",
   "execution_count": 3,
   "metadata": {},
   "outputs": [
    {
     "data": {
      "text/html": [
       "<div>\n",
       "<style scoped>\n",
       "    .dataframe tbody tr th:only-of-type {\n",
       "        vertical-align: middle;\n",
       "    }\n",
       "\n",
       "    .dataframe tbody tr th {\n",
       "        vertical-align: top;\n",
       "    }\n",
       "\n",
       "    .dataframe thead th {\n",
       "        text-align: right;\n",
       "    }\n",
       "</style>\n",
       "<table border=\"1\" class=\"dataframe\">\n",
       "  <thead>\n",
       "    <tr style=\"text-align: right;\">\n",
       "      <th></th>\n",
       "      <th>Text</th>\n",
       "      <th>Summary</th>\n",
       "    </tr>\n",
       "  </thead>\n",
       "  <tbody>\n",
       "    <tr>\n",
       "      <th>0</th>\n",
       "      <td>I have bought several of the Vitality canned d...</td>\n",
       "      <td>Good Quality Dog Food</td>\n",
       "    </tr>\n",
       "    <tr>\n",
       "      <th>1</th>\n",
       "      <td>Product arrived labeled as Jumbo Salted Peanut...</td>\n",
       "      <td>Not as Advertised</td>\n",
       "    </tr>\n",
       "    <tr>\n",
       "      <th>2</th>\n",
       "      <td>This is a confection that has been around a fe...</td>\n",
       "      <td>\"Delight\" says it all</td>\n",
       "    </tr>\n",
       "    <tr>\n",
       "      <th>3</th>\n",
       "      <td>If you are looking for the secret ingredient i...</td>\n",
       "      <td>Cough Medicine</td>\n",
       "    </tr>\n",
       "    <tr>\n",
       "      <th>4</th>\n",
       "      <td>Great taffy at a great price.  There was a wid...</td>\n",
       "      <td>Great taffy</td>\n",
       "    </tr>\n",
       "    <tr>\n",
       "      <th>...</th>\n",
       "      <td>...</td>\n",
       "      <td>...</td>\n",
       "    </tr>\n",
       "    <tr>\n",
       "      <th>995</th>\n",
       "      <td>BLACK MARKET HOT SAUCE IS WONDERFUL.... My hus...</td>\n",
       "      <td>Hot &amp; Flavorful</td>\n",
       "    </tr>\n",
       "    <tr>\n",
       "      <th>996</th>\n",
       "      <td>Man what can i say, this salsa is the bomb!! i...</td>\n",
       "      <td>Great Hot Sauce and people who run it!</td>\n",
       "    </tr>\n",
       "    <tr>\n",
       "      <th>997</th>\n",
       "      <td>this sauce is so good with just about anything...</td>\n",
       "      <td>this sauce is the shiznit</td>\n",
       "    </tr>\n",
       "    <tr>\n",
       "      <th>998</th>\n",
       "      <td>Not hot at all. Like the other low star review...</td>\n",
       "      <td>Not Hot</td>\n",
       "    </tr>\n",
       "    <tr>\n",
       "      <th>999</th>\n",
       "      <td>I have to admit, I was a sucker for the large ...</td>\n",
       "      <td>Not hot, not habanero</td>\n",
       "    </tr>\n",
       "  </tbody>\n",
       "</table>\n",
       "<p>1000 rows × 2 columns</p>\n",
       "</div>"
      ],
      "text/plain": [
       "                                                  Text  \\\n",
       "0    I have bought several of the Vitality canned d...   \n",
       "1    Product arrived labeled as Jumbo Salted Peanut...   \n",
       "2    This is a confection that has been around a fe...   \n",
       "3    If you are looking for the secret ingredient i...   \n",
       "4    Great taffy at a great price.  There was a wid...   \n",
       "..                                                 ...   \n",
       "995  BLACK MARKET HOT SAUCE IS WONDERFUL.... My hus...   \n",
       "996  Man what can i say, this salsa is the bomb!! i...   \n",
       "997  this sauce is so good with just about anything...   \n",
       "998  Not hot at all. Like the other low star review...   \n",
       "999  I have to admit, I was a sucker for the large ...   \n",
       "\n",
       "                                    Summary  \n",
       "0                     Good Quality Dog Food  \n",
       "1                         Not as Advertised  \n",
       "2                     \"Delight\" says it all  \n",
       "3                            Cough Medicine  \n",
       "4                               Great taffy  \n",
       "..                                      ...  \n",
       "995                         Hot & Flavorful  \n",
       "996  Great Hot Sauce and people who run it!  \n",
       "997               this sauce is the shiznit  \n",
       "998                                 Not Hot  \n",
       "999                   Not hot, not habanero  \n",
       "\n",
       "[1000 rows x 2 columns]"
      ]
     },
     "execution_count": 3,
     "metadata": {},
     "output_type": "execute_result"
    }
   ],
   "source": [
    "review_df = review_df[['Text','Summary']]\n",
    "review_df"
   ]
  },
  {
   "cell_type": "markdown",
   "metadata": {},
   "source": [
    "## 텍스트 데이터 전처리\n",
    "\n",
    "### 중복된 데이터 처리"
   ]
  },
  {
   "cell_type": "code",
   "execution_count": 4,
   "metadata": {},
   "outputs": [
    {
     "data": {
      "text/plain": [
       "0      False\n",
       "1      False\n",
       "2      False\n",
       "3      False\n",
       "4      False\n",
       "       ...  \n",
       "995    False\n",
       "996    False\n",
       "997    False\n",
       "998    False\n",
       "999    False\n",
       "Length: 1000, dtype: bool"
      ]
     },
     "execution_count": 4,
     "metadata": {},
     "output_type": "execute_result"
    }
   ],
   "source": [
    "# 중복 확인\n",
    "review_df.duplicated()"
   ]
  },
  {
   "cell_type": "code",
   "execution_count": 5,
   "metadata": {},
   "outputs": [
    {
     "data": {
      "text/html": [
       "<div>\n",
       "<style scoped>\n",
       "    .dataframe tbody tr th:only-of-type {\n",
       "        vertical-align: middle;\n",
       "    }\n",
       "\n",
       "    .dataframe tbody tr th {\n",
       "        vertical-align: top;\n",
       "    }\n",
       "\n",
       "    .dataframe thead th {\n",
       "        text-align: right;\n",
       "    }\n",
       "</style>\n",
       "<table border=\"1\" class=\"dataframe\">\n",
       "  <thead>\n",
       "    <tr style=\"text-align: right;\">\n",
       "      <th></th>\n",
       "      <th>Text</th>\n",
       "      <th>Summary</th>\n",
       "    </tr>\n",
       "  </thead>\n",
       "  <tbody>\n",
       "    <tr>\n",
       "      <th>0</th>\n",
       "      <td>I have bought several of the Vitality canned d...</td>\n",
       "      <td>Good Quality Dog Food</td>\n",
       "    </tr>\n",
       "    <tr>\n",
       "      <th>1</th>\n",
       "      <td>Product arrived labeled as Jumbo Salted Peanut...</td>\n",
       "      <td>Not as Advertised</td>\n",
       "    </tr>\n",
       "    <tr>\n",
       "      <th>2</th>\n",
       "      <td>This is a confection that has been around a fe...</td>\n",
       "      <td>\"Delight\" says it all</td>\n",
       "    </tr>\n",
       "    <tr>\n",
       "      <th>3</th>\n",
       "      <td>If you are looking for the secret ingredient i...</td>\n",
       "      <td>Cough Medicine</td>\n",
       "    </tr>\n",
       "    <tr>\n",
       "      <th>4</th>\n",
       "      <td>Great taffy at a great price.  There was a wid...</td>\n",
       "      <td>Great taffy</td>\n",
       "    </tr>\n",
       "    <tr>\n",
       "      <th>...</th>\n",
       "      <td>...</td>\n",
       "      <td>...</td>\n",
       "    </tr>\n",
       "    <tr>\n",
       "      <th>995</th>\n",
       "      <td>BLACK MARKET HOT SAUCE IS WONDERFUL.... My hus...</td>\n",
       "      <td>Hot &amp; Flavorful</td>\n",
       "    </tr>\n",
       "    <tr>\n",
       "      <th>996</th>\n",
       "      <td>Man what can i say, this salsa is the bomb!! i...</td>\n",
       "      <td>Great Hot Sauce and people who run it!</td>\n",
       "    </tr>\n",
       "    <tr>\n",
       "      <th>997</th>\n",
       "      <td>this sauce is so good with just about anything...</td>\n",
       "      <td>this sauce is the shiznit</td>\n",
       "    </tr>\n",
       "    <tr>\n",
       "      <th>998</th>\n",
       "      <td>Not hot at all. Like the other low star review...</td>\n",
       "      <td>Not Hot</td>\n",
       "    </tr>\n",
       "    <tr>\n",
       "      <th>999</th>\n",
       "      <td>I have to admit, I was a sucker for the large ...</td>\n",
       "      <td>Not hot, not habanero</td>\n",
       "    </tr>\n",
       "  </tbody>\n",
       "</table>\n",
       "<p>997 rows × 2 columns</p>\n",
       "</div>"
      ],
      "text/plain": [
       "                                                  Text  \\\n",
       "0    I have bought several of the Vitality canned d...   \n",
       "1    Product arrived labeled as Jumbo Salted Peanut...   \n",
       "2    This is a confection that has been around a fe...   \n",
       "3    If you are looking for the secret ingredient i...   \n",
       "4    Great taffy at a great price.  There was a wid...   \n",
       "..                                                 ...   \n",
       "995  BLACK MARKET HOT SAUCE IS WONDERFUL.... My hus...   \n",
       "996  Man what can i say, this salsa is the bomb!! i...   \n",
       "997  this sauce is so good with just about anything...   \n",
       "998  Not hot at all. Like the other low star review...   \n",
       "999  I have to admit, I was a sucker for the large ...   \n",
       "\n",
       "                                    Summary  \n",
       "0                     Good Quality Dog Food  \n",
       "1                         Not as Advertised  \n",
       "2                     \"Delight\" says it all  \n",
       "3                            Cough Medicine  \n",
       "4                               Great taffy  \n",
       "..                                      ...  \n",
       "995                         Hot & Flavorful  \n",
       "996  Great Hot Sauce and people who run it!  \n",
       "997               this sauce is the shiznit  \n",
       "998                                 Not Hot  \n",
       "999                   Not hot, not habanero  \n",
       "\n",
       "[997 rows x 2 columns]"
      ]
     },
     "execution_count": 5,
     "metadata": {},
     "output_type": "execute_result"
    }
   ],
   "source": [
    "# Text와 Summary 두 칼럼에서 중복되는 행중에 첫번째만 남겨두고 삭제\n",
    "review_df = review_df.drop_duplicates(keep = 'first')\n",
    "review_df"
   ]
  },
  {
   "cell_type": "code",
   "execution_count": 6,
   "metadata": {},
   "outputs": [
    {
     "data": {
      "text/html": [
       "<div>\n",
       "<style scoped>\n",
       "    .dataframe tbody tr th:only-of-type {\n",
       "        vertical-align: middle;\n",
       "    }\n",
       "\n",
       "    .dataframe tbody tr th {\n",
       "        vertical-align: top;\n",
       "    }\n",
       "\n",
       "    .dataframe thead th {\n",
       "        text-align: right;\n",
       "    }\n",
       "</style>\n",
       "<table border=\"1\" class=\"dataframe\">\n",
       "  <thead>\n",
       "    <tr style=\"text-align: right;\">\n",
       "      <th></th>\n",
       "      <th>Text</th>\n",
       "      <th>Summary</th>\n",
       "    </tr>\n",
       "  </thead>\n",
       "  <tbody>\n",
       "    <tr>\n",
       "      <th>0</th>\n",
       "      <td>I have bought several of the Vitality canned d...</td>\n",
       "      <td>Good Quality Dog Food</td>\n",
       "    </tr>\n",
       "    <tr>\n",
       "      <th>1</th>\n",
       "      <td>Product arrived labeled as Jumbo Salted Peanut...</td>\n",
       "      <td>Not as Advertised</td>\n",
       "    </tr>\n",
       "    <tr>\n",
       "      <th>2</th>\n",
       "      <td>This is a confection that has been around a fe...</td>\n",
       "      <td>\"Delight\" says it all</td>\n",
       "    </tr>\n",
       "    <tr>\n",
       "      <th>3</th>\n",
       "      <td>If you are looking for the secret ingredient i...</td>\n",
       "      <td>Cough Medicine</td>\n",
       "    </tr>\n",
       "    <tr>\n",
       "      <th>4</th>\n",
       "      <td>Great taffy at a great price.  There was a wid...</td>\n",
       "      <td>Great taffy</td>\n",
       "    </tr>\n",
       "    <tr>\n",
       "      <th>...</th>\n",
       "      <td>...</td>\n",
       "      <td>...</td>\n",
       "    </tr>\n",
       "    <tr>\n",
       "      <th>992</th>\n",
       "      <td>BLACK MARKET HOT SAUCE IS WONDERFUL.... My hus...</td>\n",
       "      <td>Hot &amp; Flavorful</td>\n",
       "    </tr>\n",
       "    <tr>\n",
       "      <th>993</th>\n",
       "      <td>Man what can i say, this salsa is the bomb!! i...</td>\n",
       "      <td>Great Hot Sauce and people who run it!</td>\n",
       "    </tr>\n",
       "    <tr>\n",
       "      <th>994</th>\n",
       "      <td>this sauce is so good with just about anything...</td>\n",
       "      <td>this sauce is the shiznit</td>\n",
       "    </tr>\n",
       "    <tr>\n",
       "      <th>995</th>\n",
       "      <td>Not hot at all. Like the other low star review...</td>\n",
       "      <td>Not Hot</td>\n",
       "    </tr>\n",
       "    <tr>\n",
       "      <th>996</th>\n",
       "      <td>I have to admit, I was a sucker for the large ...</td>\n",
       "      <td>Not hot, not habanero</td>\n",
       "    </tr>\n",
       "  </tbody>\n",
       "</table>\n",
       "<p>997 rows × 2 columns</p>\n",
       "</div>"
      ],
      "text/plain": [
       "                                                  Text  \\\n",
       "0    I have bought several of the Vitality canned d...   \n",
       "1    Product arrived labeled as Jumbo Salted Peanut...   \n",
       "2    This is a confection that has been around a fe...   \n",
       "3    If you are looking for the secret ingredient i...   \n",
       "4    Great taffy at a great price.  There was a wid...   \n",
       "..                                                 ...   \n",
       "992  BLACK MARKET HOT SAUCE IS WONDERFUL.... My hus...   \n",
       "993  Man what can i say, this salsa is the bomb!! i...   \n",
       "994  this sauce is so good with just about anything...   \n",
       "995  Not hot at all. Like the other low star review...   \n",
       "996  I have to admit, I was a sucker for the large ...   \n",
       "\n",
       "                                    Summary  \n",
       "0                     Good Quality Dog Food  \n",
       "1                         Not as Advertised  \n",
       "2                     \"Delight\" says it all  \n",
       "3                            Cough Medicine  \n",
       "4                               Great taffy  \n",
       "..                                      ...  \n",
       "992                         Hot & Flavorful  \n",
       "993  Great Hot Sauce and people who run it!  \n",
       "994               this sauce is the shiznit  \n",
       "995                                 Not Hot  \n",
       "996                   Not hot, not habanero  \n",
       "\n",
       "[997 rows x 2 columns]"
      ]
     },
     "execution_count": 6,
     "metadata": {},
     "output_type": "execute_result"
    }
   ],
   "source": [
    "# 인덱스를 다시 정렬\n",
    "review_df = review_df.reset_index(drop = True)\n",
    "review_df"
   ]
  },
  {
   "cell_type": "markdown",
   "metadata": {},
   "source": [
    "### 결측치 데이터 처리"
   ]
  },
  {
   "cell_type": "code",
   "execution_count": 7,
   "metadata": {},
   "outputs": [
    {
     "data": {
      "text/plain": [
       "Text       0\n",
       "Summary    0\n",
       "dtype: int64"
      ]
     },
     "execution_count": 7,
     "metadata": {},
     "output_type": "execute_result"
    }
   ],
   "source": [
    "# 결측치 확인\n",
    "review_df.isnull().sum()"
   ]
  },
  {
   "cell_type": "code",
   "execution_count": 8,
   "metadata": {},
   "outputs": [
    {
     "data": {
      "text/html": [
       "<div>\n",
       "<style scoped>\n",
       "    .dataframe tbody tr th:only-of-type {\n",
       "        vertical-align: middle;\n",
       "    }\n",
       "\n",
       "    .dataframe tbody tr th {\n",
       "        vertical-align: top;\n",
       "    }\n",
       "\n",
       "    .dataframe thead th {\n",
       "        text-align: right;\n",
       "    }\n",
       "</style>\n",
       "<table border=\"1\" class=\"dataframe\">\n",
       "  <thead>\n",
       "    <tr style=\"text-align: right;\">\n",
       "      <th></th>\n",
       "      <th>Text</th>\n",
       "      <th>Summary</th>\n",
       "    </tr>\n",
       "  </thead>\n",
       "  <tbody>\n",
       "    <tr>\n",
       "      <th>0</th>\n",
       "      <td>I have bought several of the Vitality canned d...</td>\n",
       "      <td>Good Quality Dog Food</td>\n",
       "    </tr>\n",
       "    <tr>\n",
       "      <th>1</th>\n",
       "      <td>Product arrived labeled as Jumbo Salted Peanut...</td>\n",
       "      <td>Not as Advertised</td>\n",
       "    </tr>\n",
       "    <tr>\n",
       "      <th>2</th>\n",
       "      <td>This is a confection that has been around a fe...</td>\n",
       "      <td>\"Delight\" says it all</td>\n",
       "    </tr>\n",
       "    <tr>\n",
       "      <th>3</th>\n",
       "      <td>If you are looking for the secret ingredient i...</td>\n",
       "      <td>Cough Medicine</td>\n",
       "    </tr>\n",
       "    <tr>\n",
       "      <th>4</th>\n",
       "      <td>Great taffy at a great price.  There was a wid...</td>\n",
       "      <td>Great taffy</td>\n",
       "    </tr>\n",
       "    <tr>\n",
       "      <th>...</th>\n",
       "      <td>...</td>\n",
       "      <td>...</td>\n",
       "    </tr>\n",
       "    <tr>\n",
       "      <th>992</th>\n",
       "      <td>BLACK MARKET HOT SAUCE IS WONDERFUL.... My hus...</td>\n",
       "      <td>Hot &amp; Flavorful</td>\n",
       "    </tr>\n",
       "    <tr>\n",
       "      <th>993</th>\n",
       "      <td>Man what can i say, this salsa is the bomb!! i...</td>\n",
       "      <td>Great Hot Sauce and people who run it!</td>\n",
       "    </tr>\n",
       "    <tr>\n",
       "      <th>994</th>\n",
       "      <td>this sauce is so good with just about anything...</td>\n",
       "      <td>this sauce is the shiznit</td>\n",
       "    </tr>\n",
       "    <tr>\n",
       "      <th>995</th>\n",
       "      <td>Not hot at all. Like the other low star review...</td>\n",
       "      <td>Not Hot</td>\n",
       "    </tr>\n",
       "    <tr>\n",
       "      <th>996</th>\n",
       "      <td>I have to admit, I was a sucker for the large ...</td>\n",
       "      <td>Not hot, not habanero</td>\n",
       "    </tr>\n",
       "  </tbody>\n",
       "</table>\n",
       "<p>997 rows × 2 columns</p>\n",
       "</div>"
      ],
      "text/plain": [
       "                                                  Text  \\\n",
       "0    I have bought several of the Vitality canned d...   \n",
       "1    Product arrived labeled as Jumbo Salted Peanut...   \n",
       "2    This is a confection that has been around a fe...   \n",
       "3    If you are looking for the secret ingredient i...   \n",
       "4    Great taffy at a great price.  There was a wid...   \n",
       "..                                                 ...   \n",
       "992  BLACK MARKET HOT SAUCE IS WONDERFUL.... My hus...   \n",
       "993  Man what can i say, this salsa is the bomb!! i...   \n",
       "994  this sauce is so good with just about anything...   \n",
       "995  Not hot at all. Like the other low star review...   \n",
       "996  I have to admit, I was a sucker for the large ...   \n",
       "\n",
       "                                    Summary  \n",
       "0                     Good Quality Dog Food  \n",
       "1                         Not as Advertised  \n",
       "2                     \"Delight\" says it all  \n",
       "3                            Cough Medicine  \n",
       "4                               Great taffy  \n",
       "..                                      ...  \n",
       "992                         Hot & Flavorful  \n",
       "993  Great Hot Sauce and people who run it!  \n",
       "994               this sauce is the shiznit  \n",
       "995                                 Not Hot  \n",
       "996                   Not hot, not habanero  \n",
       "\n",
       "[997 rows x 2 columns]"
      ]
     },
     "execution_count": 8,
     "metadata": {},
     "output_type": "execute_result"
    }
   ],
   "source": [
    "# 결측치 제거\n",
    "review_df = review_df.dropna()\n",
    "review_df"
   ]
  },
  {
   "cell_type": "code",
   "execution_count": 9,
   "metadata": {},
   "outputs": [
    {
     "data": {
      "text/plain": [
       "Text       0\n",
       "Summary    0\n",
       "dtype: int64"
      ]
     },
     "execution_count": 9,
     "metadata": {},
     "output_type": "execute_result"
    }
   ],
   "source": [
    "# 결측치 재확인\n",
    "review_df.isnull().sum()"
   ]
  },
  {
   "cell_type": "markdown",
   "metadata": {},
   "source": [
    "### 정제 및 정규화\n",
    "\n",
    "1. 정제(cleaning): 불필요한 단어 또는 문자를 제거\n",
    "2. 정규화(normalization): 같은 의미이면서 표현이 다른 단어를 통합\n",
    " - 규칙기반 정규화를 시키기엔 너무 많음 \n",
    " - 아래 참고 URL에 영어 규칙기반 정규화를 위한 딕셔너리가 있음\n",
    " - 참고 URL : <span> https://towardsdatascience.com/text-normalization-for-natural-language-processing-nlp-70a314bfa646 </span>"
   ]
  },
  {
   "cell_type": "code",
   "execution_count": 10,
   "metadata": {},
   "outputs": [],
   "source": [
    "# 필요시 주석 지우고 다운로드\n",
    "#%pip install nltk\n",
    "#%pip install bs4\n",
    "#%pip install autocorrect\n",
    "#%pip install lxml"
   ]
  },
  {
   "cell_type": "code",
   "execution_count": 11,
   "metadata": {},
   "outputs": [],
   "source": [
    "# 라이브러리 설치 및 불러오기\n",
    "from nltk.corpus import stopwords \n",
    "from bs4 import BeautifulSoup \n",
    "from autocorrect import Speller\n",
    "\n",
    "import nltk\n",
    "import re"
   ]
  },
  {
   "cell_type": "code",
   "execution_count": 12,
   "metadata": {},
   "outputs": [
    {
     "name": "stderr",
     "output_type": "stream",
     "text": [
      "[nltk_data] Downloading package stopwords to\n",
      "[nltk_data]     C:\\Users\\clown\\AppData\\Roaming\\nltk_data...\n",
      "[nltk_data]   Package stopwords is already up-to-date!\n",
      "[nltk_data] Downloading package punkt to\n",
      "[nltk_data]     C:\\Users\\clown\\AppData\\Roaming\\nltk_data...\n",
      "[nltk_data]   Package punkt is already up-to-date!\n"
     ]
    },
    {
     "data": {
      "text/plain": [
       "True"
      ]
     },
     "execution_count": 12,
     "metadata": {},
     "output_type": "execute_result"
    }
   ],
   "source": [
    "# 불용어 \n",
    "nltk.download('stopwords')\n",
    "nltk.download(\"punkt\")"
   ]
  },
  {
   "cell_type": "code",
   "execution_count": 13,
   "metadata": {},
   "outputs": [
    {
     "name": "stdout",
     "output_type": "stream",
     "text": [
      "불용어 개수 : 179\n"
     ]
    }
   ],
   "source": [
    "# 다운로드한 NLTK의 불용어\n",
    "stop_words = set(stopwords.words('english'))\n",
    "print('불용어 개수 :', len(stop_words))"
   ]
  },
  {
   "cell_type": "code",
   "execution_count": 14,
   "metadata": {},
   "outputs": [
    {
     "data": {
      "text/plain": [
       "re.compile(r\"(ain't|aren't|can't|'cause|could've|couldn't|didn't|doesn't|don't|hadn't|hasn't|haven't|he'd|he'll|he's|how'd|how'd'y|how'll|how's|I'd|I'd've|I'll|I'll've|I'm|I've|i'd|i'd've|i'll|i'll've|i'm|i've|isn't|it'd|it'd've|it'll|it'll've|it's|let's|ma'am|mayn't|might've|mightn't|mightn't've|must've|mustn't|mustn't've|needn't|needn't've|o'clock|oughtn't|oughtn't've|shan't|sha'n't|shan't've|she'd|she'd've|she'll|she'll've|she's|should've|shouldn't|shouldn't've|so've|so's|this's|that'd|that'd've|that's|there'd|there'd've|there's|here's|they'd|they'd've|they'll|they'll've|they're|they've|to've|wasn't|we'd|we'd've|we'll|we'll've|we're|we've|weren't|what'll|what'll've|what're|what's|what've|when's|when've|where'd|where's|where've|who'll|who'll've|who's|who've|why's|why've|will've|won't|won't've|would've|wouldn't|wouldn't've|y'all|y'all'd|y'all'd've|y'all're|y'all've|you'd|you'd've|you'll|you'll've|you're|you've)\",\n",
       "           re.UNICODE)"
      ]
     },
     "execution_count": 14,
     "metadata": {},
     "output_type": "execute_result"
    }
   ],
   "source": [
    "# 위에 있는 URL에서 가져옴\n",
    "# 정규화를 위한 규칙 #\n",
    "contractions_dict = {\n",
    "  \"ain't\": \"is not\", \"aren't\": \"are not\",\"can't\": \"cannot\", \"'cause\": \"because\", \"could've\": \"could have\",\n",
    "  \"couldn't\": \"could not\", \"didn't\": \"did not\",  \"doesn't\": \"does not\", \"don't\": \"do not\", \"hadn't\": \"had not\", \n",
    "  \"hasn't\": \"has not\", \"haven't\": \"have not\", \"he'd\": \"he would\",\"he'll\": \"he will\", \"he's\": \"he is\", \"how'd\": \"how did\", \n",
    "  \"how'd'y\": \"how do you\", \"how'll\": \"how will\", \"how's\": \"how is\", \"I'd\": \"I would\", \"I'd've\": \"I would have\", \n",
    "  \"I'll\": \"I will\", \"I'll've\": \"I will have\",\"I'm\": \"I am\", \"I've\": \"I have\", \"i'd\": \"i would\", \"i'd've\": \"i would have\", \n",
    "  \"i'll\": \"i will\",  \"i'll've\": \"i will have\",\"i'm\": \"i am\", \"i've\": \"i have\", \"isn't\": \"is not\", \"it'd\": \"it would\", \n",
    "  \"it'd've\": \"it would have\", \"it'll\": \"it will\", \"it'll've\": \"it will have\",\"it's\": \"it is\", \"let's\": \"let us\", \n",
    "  \"ma'am\": \"madam\", \"mayn't\": \"may not\", \"might've\": \"might have\",\"mightn't\": \"might not\",\"mightn't've\": \"might not have\", \n",
    "  \"must've\": \"must have\", \"mustn't\": \"must not\", \"mustn't've\": \"must not have\", \"needn't\": \"need not\", \n",
    "  \"needn't've\": \"need not have\",\"o'clock\": \"of the clock\", \"oughtn't\": \"ought not\", \"oughtn't've\": \"ought not have\", \n",
    "  \"shan't\": \"shall not\", \"sha'n't\": \"shall not\", \"shan't've\": \"shall not have\", \"she'd\": \"she would\", \n",
    "  \"she'd've\": \"she would have\", \"she'll\": \"she will\", \"she'll've\": \"she will have\", \"she's\": \"she is\", \n",
    "  \"should've\": \"should have\", \"shouldn't\": \"should not\", \"shouldn't've\": \"should not have\", \"so've\": \"so have\",\n",
    "  \"so's\": \"so as\", \"this's\": \"this is\",\"that'd\": \"that would\", \"that'd've\": \"that would have\", \"that's\": \"that is\", \n",
    "  \"there'd\": \"there would\", \"there'd've\": \"there would have\", \"there's\": \"there is\", \"here's\": \"here is\",\n",
    "  \"they'd\": \"they would\", \"they'd've\": \"they would have\", \"they'll\": \"they will\", \"they'll've\": \"they will have\", \n",
    "  \"they're\": \"they are\", \"they've\": \"they have\", \"to've\": \"to have\", \"wasn't\": \"was not\", \"we'd\": \"we would\", \n",
    "  \"we'd've\": \"we would have\", \"we'll\": \"we will\", \"we'll've\": \"we will have\", \"we're\": \"we are\", \"we've\": \"we have\", \n",
    "  \"weren't\": \"were not\", \"what'll\": \"what will\", \"what'll've\": \"what will have\", \"what're\": \"what are\", \"what's\": \"what is\", \n",
    "  \"what've\": \"what have\", \"when's\": \"when is\", \"when've\": \"when have\", \"where'd\": \"where did\", \"where's\": \"where is\", \n",
    "  \"where've\": \"where have\", \"who'll\": \"who will\", \"who'll've\": \"who will have\", \"who's\": \"who is\", \"who've\": \"who have\", \n",
    "  \"why's\": \"why is\", \"why've\": \"why have\", \"will've\": \"will have\", \"won't\": \"will not\", \"won't've\": \"will not have\", \n",
    "  \"would've\": \"would have\", \"wouldn't\": \"would not\", \"wouldn't've\": \"would not have\", \"y'all\": \"you all\", \n",
    "  \"y'all'd\": \"you all would\",\"y'all'd've\": \"you all would have\",\"y'all're\": \"you all are\",\"y'all've\": \"you all have\", \n",
    "  \"you'd\": \"you would\", \"you'd've\": \"you would have\", \"you'll\": \"you will\", \"you'll've\": \"you will have\", \"you're\": \"you are\", \n",
    "  \"you've\": \"you have\"\n",
    "  }\n",
    "\n",
    "## 키값 가져오기\n",
    "contractions_re = re.compile('(%s)'%'|'.join(contractions_dict.keys()))\n",
    "contractions_re # 확인용 1"
   ]
  },
  {
   "cell_type": "code",
   "execution_count": 15,
   "metadata": {},
   "outputs": [
    {
     "data": {
      "text/plain": [
       "'Hey, we are not employees and we cannot regist.'"
      ]
     },
     "execution_count": 15,
     "metadata": {},
     "output_type": "execute_result"
    }
   ],
   "source": [
    "# 확인용 2\n",
    "document = \"Hey, we aren't employees and we can't regist.\"\n",
    "\n",
    "document = ' '.join([contractions_dict[t] if t in contractions_dict else t for t in document.split(\" \")])\n",
    "\n",
    "document"
   ]
  },
  {
   "cell_type": "code",
   "execution_count": 16,
   "metadata": {},
   "outputs": [],
   "source": [
    "# 그냥 추가적으로 함수를 이용한 방법이라고 알고 있기\n",
    "\n",
    "# 스테밍의 방법중 하나\n",
    "from nltk.stem import SnowballStemmer\n",
    "\n",
    "## 정규화를 위한 함수 ##\n",
    "## 함수로 만들어서 사용하는게 오히려 하는데 시간이 오래걸림\n",
    "def expand_contractions(s, contractions_dict = contractions_dict) :\n",
    "    def replace(match) :\n",
    "        return contractions_dict[match.group(0)]\n",
    "    return contractions_re.sub(replace, s)\n",
    "\n",
    "## 토큰화 후 구두점 없애기 위한 함수 ##\n",
    "## 구두점은 단순히 함부로 없애기엔 한계가 있기에 적절히 상화에 맞춰서 사용\n",
    "def remove_punct(token):\n",
    "    return [word for word in token if word.isalpha()]"
   ]
  },
  {
   "cell_type": "code",
   "execution_count": 17,
   "metadata": {},
   "outputs": [],
   "source": [
    "# 위의 함수와 달리 이번 실습에서 직접 사용하는 코드 #\n",
    "## 스펠링 맞춤법 ##\n",
    "# https://www.delftstack.com/ko/howto/python/python-spell-checker/\n",
    "spell = Speller(lang = \"en\")\n",
    "\n",
    "\n",
    "# 전체 전처리 함수 #\n",
    "## re.sub（검색 패턴, 치환되는 텍스트, 치환할려는 텍스트）\n",
    "def preprocess_doc(document, remove_stopwords = True) :\n",
    "    ## 소문자로 변환\n",
    "    document = document.lower()\n",
    "\n",
    "    ## 괄호 없애기\n",
    "    document = BeautifulSoup(document, \"lxml\").text  # html 태그 제거 (<> ~~ <> 같은)\n",
    "    document = re.sub(r'\\([^)]*\\)', ' ', document)   # 괄호로 묶인 문자열 제거 \n",
    "\n",
    "    ## 정규화\n",
    "    ## 띄어쓰기로 구분한 문장을 규칙 안에 있는거면 정규화 아니면 다시 똑같이 내보내기\n",
    "    ## 딕셔너리로 되어있기 때문에 가능\n",
    "    document = ' '.join([contractions_dict[t] if t in contractions_dict else t for t in document.split(\" \")])   # 규칙기반 정규화    \n",
    "\n",
    "    ## 필요없는 내용 제거 (스테밍)\n",
    "    document = re.sub(r\"'s\\b\",\"\",document)           # 소유격 제거\n",
    "    document = re.sub('\"','', document)              # 큰따옴표 제거\n",
    "    document = re.sub(\"'\",'', document)              # 작은따옴표 제거\n",
    "    document = re.sub(\"[^a-zA-Z]\", \" \", document)    # 영어 외 문자 공백치환\n",
    "\n",
    "    ## 그외 전처리\n",
    "    document = spell(document)                       # 철자 수정\n",
    "\n",
    "    ## 불용어 처리 \n",
    "    ## '구분자'.join(리스트)\n",
    "    ## 문장을 구분하고 구분한 단어게 불용어가 아니고 공백이 아니면 join 불용어면 버리기\n",
    "    if remove_stopwords :                            # 불용어 제거 (Text)\n",
    "        tokens = ' '.join(word for word in document.split() if not word in stop_words if len(word) > 1)     \n",
    "    ## Summary에서 불용어 처리를 하지않는 이유는 요약 방법이 \"추상적 요약\"이기 때문에 자연스러운 요약이 중요\n",
    "    else :                                           # 불용어 미제거 (Summary)\n",
    "        tokens = ' '.join(word for word in document.split() if len(word) > 1)\n",
    "    return tokens"
   ]
  },
  {
   "cell_type": "code",
   "execution_count": 18,
   "metadata": {},
   "outputs": [
    {
     "name": "stderr",
     "output_type": "stream",
     "text": [
      "c:\\Users\\clown\\.conda\\envs\\tf_test\\lib\\site-packages\\bs4\\__init__.py:435: MarkupResemblesLocatorWarning: The input looks more like a filename than markup. You may want to open this file and pass the filehandle into Beautiful Soup.\n",
      "  warnings.warn(\n"
     ]
    },
    {
     "data": {
      "text/plain": [
       "['bought several vitality canned dog food products found good quality product looks like stew processed meat smells better labrador finicky appreciates product better',\n",
       " 'product arrived labeled jumbo salted peanuts peanuts actually small sized unwanted sure error vendor intended represent product jumbo',\n",
       " 'connection around centuries light pillow citrus relation nuts case filters cut tiny squares liberally coated powdered sugar tiny youthful heaven chew flavorful highly recommend dummy treat familiar story lewis lion witch wardrobe treat seduces demand selling brother sisters witch',\n",
       " 'looking secret ingredient robitussin believe found got addition root beer extract ordered made cherry soda flavor medicinal',\n",
       " 'great staff great price wide assortment dummy staff delivery quick staff lover deal']"
      ]
     },
     "execution_count": 18,
     "metadata": {},
     "output_type": "execute_result"
    }
   ],
   "source": [
    "# Text 전처리 실행 #\n",
    "all_text = []\n",
    "\n",
    "## 텍스트 한문장씩 뽑아서 전처리후 all_text로 넣기\n",
    "for s in review_df['Text']:\n",
    "    all_text.append(preprocess_doc(s))\n",
    "\n",
    "all_text[:5]\n",
    "# 함수를 사용해서 처리했을 경우 약 1000개의 데이터는 4분 30초 정도 걸림\n",
    "# 하지만 한줄로 코드를 만들어서 처리한 경우 같은 데이터의 갯수도 약 2분 30초정도 걸림"
   ]
  },
  {
   "cell_type": "code",
   "execution_count": 19,
   "metadata": {},
   "outputs": [
    {
     "data": {
      "text/plain": [
       "['good quality dog food',\n",
       " 'not as advertised',\n",
       " 'delight says it all',\n",
       " 'cough medicine',\n",
       " 'great staff']"
      ]
     },
     "execution_count": 19,
     "metadata": {},
     "output_type": "execute_result"
    }
   ],
   "source": [
    "# Summary 모음\n",
    "all_summary = []\n",
    "\n",
    "for s in review_df['Summary']:\n",
    "    all_summary.append(preprocess_doc(s, 0))\n",
    "    \n",
    "all_summary[:5]\n",
    "\n",
    "# 이건 약 15초"
   ]
  },
  {
   "cell_type": "code",
   "execution_count": 20,
   "metadata": {},
   "outputs": [
    {
     "data": {
      "text/html": [
       "<div>\n",
       "<style scoped>\n",
       "    .dataframe tbody tr th:only-of-type {\n",
       "        vertical-align: middle;\n",
       "    }\n",
       "\n",
       "    .dataframe tbody tr th {\n",
       "        vertical-align: top;\n",
       "    }\n",
       "\n",
       "    .dataframe thead th {\n",
       "        text-align: right;\n",
       "    }\n",
       "</style>\n",
       "<table border=\"1\" class=\"dataframe\">\n",
       "  <thead>\n",
       "    <tr style=\"text-align: right;\">\n",
       "      <th></th>\n",
       "      <th>Text</th>\n",
       "      <th>Summary</th>\n",
       "    </tr>\n",
       "  </thead>\n",
       "  <tbody>\n",
       "    <tr>\n",
       "      <th>0</th>\n",
       "      <td>bought several vitality canned dog food produc...</td>\n",
       "      <td>good quality dog food</td>\n",
       "    </tr>\n",
       "    <tr>\n",
       "      <th>1</th>\n",
       "      <td>product arrived labeled jumbo salted peanuts p...</td>\n",
       "      <td>not as advertised</td>\n",
       "    </tr>\n",
       "    <tr>\n",
       "      <th>2</th>\n",
       "      <td>connection around centuries light pillow citru...</td>\n",
       "      <td>delight says it all</td>\n",
       "    </tr>\n",
       "    <tr>\n",
       "      <th>3</th>\n",
       "      <td>looking secret ingredient robitussin believe f...</td>\n",
       "      <td>cough medicine</td>\n",
       "    </tr>\n",
       "    <tr>\n",
       "      <th>4</th>\n",
       "      <td>great staff great price wide assortment dummy ...</td>\n",
       "      <td>great staff</td>\n",
       "    </tr>\n",
       "    <tr>\n",
       "      <th>...</th>\n",
       "      <td>...</td>\n",
       "      <td>...</td>\n",
       "    </tr>\n",
       "    <tr>\n",
       "      <th>992</th>\n",
       "      <td>black market hot sauce wonderful husband loves...</td>\n",
       "      <td>hot flavorful</td>\n",
       "    </tr>\n",
       "    <tr>\n",
       "      <th>993</th>\n",
       "      <td>man say salsa bomb different kinds almost ever...</td>\n",
       "      <td>great hot sauce and people who run it</td>\n",
       "    </tr>\n",
       "    <tr>\n",
       "      <th>994</th>\n",
       "      <td>sauce good anything like adding asian food any...</td>\n",
       "      <td>this sauce is the shiznit</td>\n",
       "    </tr>\n",
       "    <tr>\n",
       "      <th>995</th>\n",
       "      <td>hot like low star reviewer got suffered seeing...</td>\n",
       "      <td>not hot</td>\n",
       "    </tr>\n",
       "    <tr>\n",
       "      <th>996</th>\n",
       "      <td>admit sucker large quantity oz shopping hot sa...</td>\n",
       "      <td>not hot not habanero</td>\n",
       "    </tr>\n",
       "  </tbody>\n",
       "</table>\n",
       "<p>997 rows × 2 columns</p>\n",
       "</div>"
      ],
      "text/plain": [
       "                                                  Text  \\\n",
       "0    bought several vitality canned dog food produc...   \n",
       "1    product arrived labeled jumbo salted peanuts p...   \n",
       "2    connection around centuries light pillow citru...   \n",
       "3    looking secret ingredient robitussin believe f...   \n",
       "4    great staff great price wide assortment dummy ...   \n",
       "..                                                 ...   \n",
       "992  black market hot sauce wonderful husband loves...   \n",
       "993  man say salsa bomb different kinds almost ever...   \n",
       "994  sauce good anything like adding asian food any...   \n",
       "995  hot like low star reviewer got suffered seeing...   \n",
       "996  admit sucker large quantity oz shopping hot sa...   \n",
       "\n",
       "                                   Summary  \n",
       "0                    good quality dog food  \n",
       "1                        not as advertised  \n",
       "2                      delight says it all  \n",
       "3                           cough medicine  \n",
       "4                              great staff  \n",
       "..                                     ...  \n",
       "992                          hot flavorful  \n",
       "993  great hot sauce and people who run it  \n",
       "994              this sauce is the shiznit  \n",
       "995                                not hot  \n",
       "996                   not hot not habanero  \n",
       "\n",
       "[997 rows x 2 columns]"
      ]
     },
     "execution_count": 20,
     "metadata": {},
     "output_type": "execute_result"
    }
   ],
   "source": [
    "# 다시 저장\n",
    "review_df['Text'] = all_text\n",
    "review_df['Summary'] = all_summary\n",
    "review_df"
   ]
  },
  {
   "cell_type": "code",
   "execution_count": 21,
   "metadata": {},
   "outputs": [
    {
     "data": {
      "text/plain": [
       "Text       0\n",
       "Summary    0\n",
       "dtype: int64"
      ]
     },
     "execution_count": 21,
     "metadata": {},
     "output_type": "execute_result"
    }
   ],
   "source": [
    "review_df.isnull().sum()"
   ]
  },
  {
   "cell_type": "markdown",
   "metadata": {},
   "source": [
    "### 이상치 처리"
   ]
  },
  {
   "cell_type": "code",
   "execution_count": 22,
   "metadata": {},
   "outputs": [
    {
     "name": "stdout",
     "output_type": "stream",
     "text": [
      "Text 최소 길이 : 5\n",
      "Text 최대 길이 : 350\n",
      "Text 평균 길이 : 34.72818455366098\n",
      "Summary 최소 길이 : 0\n",
      "Summary 최대 길이 : 22\n",
      "Summary 평균 길이 : 3.95987963891675\n"
     ]
    }
   ],
   "source": [
    "# 길이 분포 출력 # \n",
    "## 문장 뽑아 구분한 뒤 길이만 출력하여 리스트로 저장\n",
    "t_len = [len(t.split()) for t in review_df['Text']]\n",
    "s_len = [len(s.split()) for s in review_df['Summary']]\n",
    "\n",
    "print('Text 최소 길이 : {}'.format(np.min(t_len)))\n",
    "print('Text 최대 길이 : {}'.format(np.max(t_len)))\n",
    "print('Text 평균 길이 : {}'.format(np.mean(t_len)))\n",
    "print('Summary 최소 길이 : {}'.format(np.min(s_len)))\n",
    "print('Summary 최대 길이 : {}'.format(np.max(s_len)))\n",
    "print('Summary 평균 길이 : {}'.format(np.mean(s_len)))"
   ]
  },
  {
   "cell_type": "code",
   "execution_count": 23,
   "metadata": {},
   "outputs": [
    {
     "data": {
      "image/png": "[encoded data removed]",
      "text/plain": [
       "<Figure size 432x288 with 2 Axes>"
      ]
     },
     "metadata": {
      "needs_background": "light"
     },
     "output_type": "display_data"
    }
   ],
   "source": [
    "# Text boxplot\n",
    "plt.subplot(1, 2, 1)\n",
    "plt.boxplot(t_len)\n",
    "plt.title('Text')\n",
    "\n",
    "# Summary boxplot\n",
    "plt.subplot(1, 2, 2)\n",
    "plt.boxplot(s_len)\n",
    "plt.title('Summary')\n",
    "\n",
    "plt.tight_layout()\n",
    "plt.show()"
   ]
  },
  {
   "cell_type": "code",
   "execution_count": 24,
   "metadata": {},
   "outputs": [
    {
     "data": {
      "image/png": "[encoded data removed]",
      "text/plain": [
       "<Figure size 432x288 with 2 Axes>"
      ]
     },
     "metadata": {
      "needs_background": "light"
     },
     "output_type": "display_data"
    },
    {
     "name": "stdout",
     "output_type": "stream",
     "text": [
      "처리하기 전 데이터수 : 997\n"
     ]
    }
   ],
   "source": [
    "# Text를 한눈에 확인이 어려워서 다시 hist로 확인\n",
    "# 보는김에 Summary도 같이 확인\n",
    "plt.subplot(1, 2, 1)\n",
    "plt.hist(t_len)\n",
    "plt.title('Text')\n",
    "\n",
    "plt.subplot(1, 2, 2)\n",
    "plt.hist(s_len)\n",
    "plt.title('Summary')\n",
    "\n",
    "plt.tight_layout()\n",
    "plt.show()\n",
    "\n",
    "print('처리하기 전 데이터수 :',(len(review_df)))"
   ]
  },
  {
   "cell_type": "code",
   "execution_count": 25,
   "metadata": {},
   "outputs": [
    {
     "data": {
      "text/html": [
       "<div>\n",
       "<style scoped>\n",
       "    .dataframe tbody tr th:only-of-type {\n",
       "        vertical-align: middle;\n",
       "    }\n",
       "\n",
       "    .dataframe tbody tr th {\n",
       "        vertical-align: top;\n",
       "    }\n",
       "\n",
       "    .dataframe thead th {\n",
       "        text-align: right;\n",
       "    }\n",
       "</style>\n",
       "<table border=\"1\" class=\"dataframe\">\n",
       "  <thead>\n",
       "    <tr style=\"text-align: right;\">\n",
       "      <th></th>\n",
       "      <th>Text</th>\n",
       "      <th>Summary</th>\n",
       "    </tr>\n",
       "  </thead>\n",
       "  <tbody>\n",
       "    <tr>\n",
       "      <th>0</th>\n",
       "      <td>bought several vitality canned dog food produc...</td>\n",
       "      <td>good quality dog food</td>\n",
       "    </tr>\n",
       "    <tr>\n",
       "      <th>1</th>\n",
       "      <td>product arrived labeled jumbo salted peanuts p...</td>\n",
       "      <td>not as advertised</td>\n",
       "    </tr>\n",
       "    <tr>\n",
       "      <th>2</th>\n",
       "      <td>connection around centuries light pillow citru...</td>\n",
       "      <td>delight says it all</td>\n",
       "    </tr>\n",
       "    <tr>\n",
       "      <th>3</th>\n",
       "      <td>looking secret ingredient robitussin believe f...</td>\n",
       "      <td>cough medicine</td>\n",
       "    </tr>\n",
       "    <tr>\n",
       "      <th>4</th>\n",
       "      <td>great staff great price wide assortment dummy ...</td>\n",
       "      <td>great staff</td>\n",
       "    </tr>\n",
       "    <tr>\n",
       "      <th>...</th>\n",
       "      <td>...</td>\n",
       "      <td>...</td>\n",
       "    </tr>\n",
       "    <tr>\n",
       "      <th>933</th>\n",
       "      <td>black market hot sauce wonderful husband loves...</td>\n",
       "      <td>hot flavorful</td>\n",
       "    </tr>\n",
       "    <tr>\n",
       "      <th>934</th>\n",
       "      <td>man say salsa bomb different kinds almost ever...</td>\n",
       "      <td>great hot sauce and people who run it</td>\n",
       "    </tr>\n",
       "    <tr>\n",
       "      <th>935</th>\n",
       "      <td>sauce good anything like adding asian food any...</td>\n",
       "      <td>this sauce is the shiznit</td>\n",
       "    </tr>\n",
       "    <tr>\n",
       "      <th>936</th>\n",
       "      <td>hot like low star reviewer got suffered seeing...</td>\n",
       "      <td>not hot</td>\n",
       "    </tr>\n",
       "    <tr>\n",
       "      <th>937</th>\n",
       "      <td>admit sucker large quantity oz shopping hot sa...</td>\n",
       "      <td>not hot not habanero</td>\n",
       "    </tr>\n",
       "  </tbody>\n",
       "</table>\n",
       "<p>938 rows × 2 columns</p>\n",
       "</div>"
      ],
      "text/plain": [
       "                                                  Text  \\\n",
       "0    bought several vitality canned dog food produc...   \n",
       "1    product arrived labeled jumbo salted peanuts p...   \n",
       "2    connection around centuries light pillow citru...   \n",
       "3    looking secret ingredient robitussin believe f...   \n",
       "4    great staff great price wide assortment dummy ...   \n",
       "..                                                 ...   \n",
       "933  black market hot sauce wonderful husband loves...   \n",
       "934  man say salsa bomb different kinds almost ever...   \n",
       "935  sauce good anything like adding asian food any...   \n",
       "936  hot like low star reviewer got suffered seeing...   \n",
       "937  admit sucker large quantity oz shopping hot sa...   \n",
       "\n",
       "                                   Summary  \n",
       "0                    good quality dog food  \n",
       "1                        not as advertised  \n",
       "2                      delight says it all  \n",
       "3                           cough medicine  \n",
       "4                              great staff  \n",
       "..                                     ...  \n",
       "933                          hot flavorful  \n",
       "934  great hot sauce and people who run it  \n",
       "935              this sauce is the shiznit  \n",
       "936                                not hot  \n",
       "937                   not hot not habanero  \n",
       "\n",
       "[938 rows x 2 columns]"
      ]
     },
     "execution_count": 25,
     "metadata": {},
     "output_type": "execute_result"
    }
   ],
   "source": [
    "# Boxplot 기준으로 이상치 제거 #\n",
    "\n",
    "# Text #\n",
    "review_df = review_df[review_df['Text'].apply(lambda x: len(x.split()) <= 100)]  # 100(최댓값에 근접한 숫자)을 기준으로 자르기\n",
    "review_df = review_df[review_df['Text'].apply(lambda x: len(x.split()) >= 5)]    # 5(텍스트 최소값)을 기준으로 자르기\n",
    "\n",
    "# Summary # \n",
    "review_df = review_df[review_df['Summary'].apply(lambda x: len(x.split()) <= 10)] # 10(최댓값에 근접한 숫자)을 기준으로 자르기\n",
    "review_df = review_df[review_df['Summary'].apply(lambda x: len(x.split()) >= 1)]  # 1(서머리 0을 미리 제거함)을 기준으로 자르기\n",
    "\n",
    "# 인덱스 다시 처리 후 확인 #\n",
    "review_df = review_df.reset_index(drop = True)\n",
    "review_df"
   ]
  },
  {
   "cell_type": "markdown",
   "metadata": {},
   "source": [
    "## 토큰화를 위한 작업"
   ]
  },
  {
   "cell_type": "code",
   "execution_count": 26,
   "metadata": {},
   "outputs": [],
   "source": [
    "#%pip install tensorflow"
   ]
  },
  {
   "cell_type": "code",
   "execution_count": 27,
   "metadata": {},
   "outputs": [],
   "source": [
    "# 토큰화를 위한 라이브러리 불러오기\n",
    "from tensorflow.keras.preprocessing.text import text_to_word_sequence\n",
    "from tensorflow.keras.preprocessing.sequence import pad_sequences\n",
    "from tensorflow.keras.preprocessing.text import Tokenizer"
   ]
  },
  {
   "cell_type": "code",
   "execution_count": 32,
   "metadata": {},
   "outputs": [
    {
     "data": {
      "text/plain": [
       "Text              object\n",
       "Summary           object\n",
       "decoder_input     object\n",
       "decoder_target    object\n",
       "dtype: object"
      ]
     },
     "execution_count": 32,
     "metadata": {},
     "output_type": "execute_result"
    }
   ],
   "source": [
    "# 데이터 타입 확인\n",
    "review_df.dtypes\n",
    "\n",
    "# 변환이 필요할 경우 #\n",
    "# 데이터 타입 str으로 변환\n",
    "#review_df = review_df.astype('str')\n",
    "#review_df.dtypes"
   ]
  },
  {
   "cell_type": "code",
   "execution_count": 30,
   "metadata": {},
   "outputs": [
    {
     "data": {
      "text/html": [
       "<div>\n",
       "<style scoped>\n",
       "    .dataframe tbody tr th:only-of-type {\n",
       "        vertical-align: middle;\n",
       "    }\n",
       "\n",
       "    .dataframe tbody tr th {\n",
       "        vertical-align: top;\n",
       "    }\n",
       "\n",
       "    .dataframe thead th {\n",
       "        text-align: right;\n",
       "    }\n",
       "</style>\n",
       "<table border=\"1\" class=\"dataframe\">\n",
       "  <thead>\n",
       "    <tr style=\"text-align: right;\">\n",
       "      <th></th>\n",
       "      <th>Text</th>\n",
       "      <th>Summary</th>\n",
       "      <th>decoder_input</th>\n",
       "      <th>decoder_target</th>\n",
       "    </tr>\n",
       "  </thead>\n",
       "  <tbody>\n",
       "    <tr>\n",
       "      <th>0</th>\n",
       "      <td>bought several vitality canned dog food produc...</td>\n",
       "      <td>good quality dog food</td>\n",
       "      <td>start good quality dog food</td>\n",
       "      <td>good quality dog food end</td>\n",
       "    </tr>\n",
       "    <tr>\n",
       "      <th>1</th>\n",
       "      <td>product arrived labeled jumbo salted peanuts p...</td>\n",
       "      <td>not as advertised</td>\n",
       "      <td>start not as advertised</td>\n",
       "      <td>not as advertised end</td>\n",
       "    </tr>\n",
       "    <tr>\n",
       "      <th>2</th>\n",
       "      <td>connection around centuries light pillow citru...</td>\n",
       "      <td>delight says it all</td>\n",
       "      <td>start delight says it all</td>\n",
       "      <td>delight says it all end</td>\n",
       "    </tr>\n",
       "    <tr>\n",
       "      <th>3</th>\n",
       "      <td>looking secret ingredient robitussin believe f...</td>\n",
       "      <td>cough medicine</td>\n",
       "      <td>start cough medicine</td>\n",
       "      <td>cough medicine end</td>\n",
       "    </tr>\n",
       "    <tr>\n",
       "      <th>4</th>\n",
       "      <td>great staff great price wide assortment dummy ...</td>\n",
       "      <td>great staff</td>\n",
       "      <td>start great staff</td>\n",
       "      <td>great staff end</td>\n",
       "    </tr>\n",
       "    <tr>\n",
       "      <th>...</th>\n",
       "      <td>...</td>\n",
       "      <td>...</td>\n",
       "      <td>...</td>\n",
       "      <td>...</td>\n",
       "    </tr>\n",
       "    <tr>\n",
       "      <th>933</th>\n",
       "      <td>black market hot sauce wonderful husband loves...</td>\n",
       "      <td>hot flavorful</td>\n",
       "      <td>start hot flavorful</td>\n",
       "      <td>hot flavorful end</td>\n",
       "    </tr>\n",
       "    <tr>\n",
       "      <th>934</th>\n",
       "      <td>man say salsa bomb different kinds almost ever...</td>\n",
       "      <td>great hot sauce and people who run it</td>\n",
       "      <td>start great hot sauce and people who run it</td>\n",
       "      <td>great hot sauce and people who run it end</td>\n",
       "    </tr>\n",
       "    <tr>\n",
       "      <th>935</th>\n",
       "      <td>sauce good anything like adding asian food any...</td>\n",
       "      <td>this sauce is the shiznit</td>\n",
       "      <td>start this sauce is the shiznit</td>\n",
       "      <td>this sauce is the shiznit end</td>\n",
       "    </tr>\n",
       "    <tr>\n",
       "      <th>936</th>\n",
       "      <td>hot like low star reviewer got suffered seeing...</td>\n",
       "      <td>not hot</td>\n",
       "      <td>start not hot</td>\n",
       "      <td>not hot end</td>\n",
       "    </tr>\n",
       "    <tr>\n",
       "      <th>937</th>\n",
       "      <td>admit sucker large quantity oz shopping hot sa...</td>\n",
       "      <td>not hot not habanero</td>\n",
       "      <td>start not hot not habanero</td>\n",
       "      <td>not hot not habanero end</td>\n",
       "    </tr>\n",
       "  </tbody>\n",
       "</table>\n",
       "<p>938 rows × 4 columns</p>\n",
       "</div>"
      ],
      "text/plain": [
       "                                                  Text  \\\n",
       "0    bought several vitality canned dog food produc...   \n",
       "1    product arrived labeled jumbo salted peanuts p...   \n",
       "2    connection around centuries light pillow citru...   \n",
       "3    looking secret ingredient robitussin believe f...   \n",
       "4    great staff great price wide assortment dummy ...   \n",
       "..                                                 ...   \n",
       "933  black market hot sauce wonderful husband loves...   \n",
       "934  man say salsa bomb different kinds almost ever...   \n",
       "935  sauce good anything like adding asian food any...   \n",
       "936  hot like low star reviewer got suffered seeing...   \n",
       "937  admit sucker large quantity oz shopping hot sa...   \n",
       "\n",
       "                                   Summary  \\\n",
       "0                    good quality dog food   \n",
       "1                        not as advertised   \n",
       "2                      delight says it all   \n",
       "3                           cough medicine   \n",
       "4                              great staff   \n",
       "..                                     ...   \n",
       "933                          hot flavorful   \n",
       "934  great hot sauce and people who run it   \n",
       "935              this sauce is the shiznit   \n",
       "936                                not hot   \n",
       "937                   not hot not habanero   \n",
       "\n",
       "                                   decoder_input  \\\n",
       "0                    start good quality dog food   \n",
       "1                        start not as advertised   \n",
       "2                      start delight says it all   \n",
       "3                           start cough medicine   \n",
       "4                              start great staff   \n",
       "..                                           ...   \n",
       "933                          start hot flavorful   \n",
       "934  start great hot sauce and people who run it   \n",
       "935              start this sauce is the shiznit   \n",
       "936                                start not hot   \n",
       "937                   start not hot not habanero   \n",
       "\n",
       "                                decoder_target  \n",
       "0                    good quality dog food end  \n",
       "1                        not as advertised end  \n",
       "2                      delight says it all end  \n",
       "3                           cough medicine end  \n",
       "4                              great staff end  \n",
       "..                                         ...  \n",
       "933                          hot flavorful end  \n",
       "934  great hot sauce and people who run it end  \n",
       "935              this sauce is the shiznit end  \n",
       "936                                not hot end  \n",
       "937                   not hot not habanero end  \n",
       "\n",
       "[938 rows x 4 columns]"
      ]
     },
     "execution_count": 30,
     "metadata": {},
     "output_type": "execute_result"
    }
   ],
   "source": [
    "# 요약 데이터에는 시작 토큰과 종료 토큰을 추가한다.\n",
    "# seq2seq 모델은 들어가는 <Start>와 끝나는 <End>가 그래서 앞 뒤로 문장을 넣음 \n",
    "review_df['decoder_input'] = review_df['Summary'].apply(lambda x : 'start '+ x)\n",
    "review_df['decoder_target'] = review_df['Summary'].apply(lambda x : x + ' end')\n",
    "review_df"
   ]
  },
  {
   "cell_type": "code",
   "execution_count": 31,
   "metadata": {},
   "outputs": [],
   "source": [
    "# 인코더의 입력, 디코더의 입력과 레이블을 각각 저장\n",
    "encoder_input = np.array(review_df['Text'])\n",
    "decoder_input = np.array(review_df['decoder_input'])\n",
    "decoder_target = np.array(review_df['decoder_target'])"
   ]
  },
  {
   "cell_type": "code",
   "execution_count": 34,
   "metadata": {},
   "outputs": [
    {
     "name": "stdout",
     "output_type": "stream",
     "text": [
      "[261 263 719 525 374 933 757 449 519 618 430 865 876 555 524 805 871  75\n",
      " 434 471 321  36 276 401 925 548 680 568 517 341 363  31 469 746 608 160\n",
      "  63 339 825 265 236 666 801 349 785 467 382 761 522 658 597 527  20 863\n",
      " 282 347 421 461 320 250 436 411 376 395 809 924 489   0  85 745 613 251\n",
      " 664 661   4 445 814 379 107 743 912  80 698 180 468 290 540 126 632 113\n",
      " 847 409 356 141 404 570 815 612 841 292  27 148 293 759 718 513 234 751\n",
      " 514 386 122 798 362  45 503 536 736 619 707  93 103 296 572 134 869  98\n",
      " 106 696 581  77 455 554 796 278 167 171 903 238 375 766  59 114 653 579\n",
      " 419  69 771 175 334 491 723 646  96  35 804 688 286 690 170 350 119 738\n",
      " 774 705 587 537 402 727 911 262 360 459 770 717 920  26 722 385 852 391\n",
      " 671 880 826  87 714 417 729  15 588  49 204 441 418 665  76 304 381 110\n",
      " 245 302 583 227 748 294  13 200 348 830 152 864 388 630 685 634 202 217\n",
      " 610 934 179 143 614 195 424 151 730 444 460 387 767 222 567 819 735 644\n",
      " 443 625 874 515 853 626 832 112 559  74 611 806 652 886  81 426 604 642\n",
      " 191 283  21 545 425 835 241 828 681 102 558 274 479 485   9 184  72 258\n",
      " 477 917 787 246 931 497 669 846 591  51 465 161 914 203  55 905 636 120\n",
      " 640  71 574 137 494 410 316 906  52 495 533 807  42 881 713 601 463 673\n",
      "   7 898 593 649 902 734 247 128  14 312 268 458 437 710 795 335 235 799\n",
      " 740  53  99 577 868 624 223 260 752 549 792 457 509 861 660 233 862 224\n",
      " 480 872 168 433 929 542 230 104  10  18 674 683 149 340 369 566 289 496\n",
      " 802 299  28 571 768 528 174  25 470  67 741 166 747 672 744 589 219 818\n",
      "  30 816  56 139 659 521 706 456 472 855 127 257 117 337  23  62 354 111\n",
      " 124 130 742 398 628 368   2 930 526 584 701 378 173 188 535 431 582 811\n",
      "  92 889 520 857 303 695 432 697 709 538 226  86 133 573 451 803 547 755\n",
      " 829 412 927 272 232 916 507 364 694 711 603 896 563 883 178  39 136 209\n",
      " 629 481 429 266 842 220 416   1 638 201 781 516 192 737 560 561 716 580\n",
      " 895 893  17 552 627 647 724 843 784  94  41 754 165 162 715 599 655  58\n",
      " 840 317 285  29  73 850 907 394 118 427  44 631 749 323 783 383 462 199\n",
      " 797  89 367 281 413 284 415 884 372 575  37 700 314 499 423 129 252 377\n",
      " 622 786 605 838 196 176 442 777 298 821 498 800 452 482 699 837 476 894\n",
      " 237 817 544 921 355 725  57 358   5 663 909   3 860 502  90 654 464 682\n",
      " 486 371 616 225 775  61  95 206 488 556 307 702 590  91  50  19 135 475\n",
      " 607 132 667 440 343 493 105 336 197 779 473 651 221 753 450 904  22 269\n",
      " 342 207 657 474 109  33 487 845 159 327 932 249 691 726 569 123 756 915\n",
      " 873 922  48 662 352 273 183 773   6 564 239 782 365 420  79 586 822 712\n",
      " 764 270 531 901 318 704  78 145 592 264 523 446  11 308 397 670 325 147\n",
      " 115  66 259 242 733  34 602 150 144 529  84 125 765 403 277 534 142 596\n",
      " 678 153 501 772  68 897 794 848 500 689 186 790 824 675 867 505 532 322\n",
      " 750 679 155 332 776 899 827 562 253 778 565 438 854 291 918 280 121 576\n",
      " 305 856 169 255 839 833 926 306 407 888 288 788 484 553 163 639 687 887\n",
      " 789 936 428 228 345 677 101 650 684 439 885 297 635 344 448 100 240  16\n",
      " 351 453 172 492  24 598 154 728   8  12 324 182 311 615 541 648 198 333\n",
      " 338 214 229 146 849 851 406 510 858 454 530 315 676 557 913 483 641 248\n",
      " 731 935 791  46 875 732  38 812 508 131 891 882 205  60 359 585 164 606\n",
      " 600 212 373 504 793 693 506 668  83 254 490 267 937 216  65 758 181 389\n",
      " 645 595 686 194 366 158 692 620 422  64 617 330 813 823 643 870 309 329\n",
      " 609 511 543 210  82 923 721 361 190 551 763 831 193 275 331 244 414 157\n",
      " 326  43 400 370 512 836 215 435 187 346 466 720 879 910 177 623 313 890\n",
      " 539  47 357 211 256 859 380 399 866 578 656 116 834  88 108 447 243  70\n",
      " 708  32 919 138 633  97 892 384 810 393 208 760 877 218 518 844 390 213\n",
      " 328 301 140 478 908 405 295 820 287 156 300 739 780 550 231 546  40 408\n",
      " 621 769 703 189 319 353 637  54 310 271 185 279 762 878 808 396 900 928\n",
      " 392 594]\n"
     ]
    }
   ],
   "source": [
    "# 순서(정수 시퀀스) 만들기\n",
    "int_ar = np.arange(encoder_input.shape[0])\n",
    "\n",
    "# 셔플\n",
    "np.random.shuffle(int_ar)\n",
    "\n",
    "print(int_ar)"
   ]
  },
  {
   "cell_type": "code",
   "execution_count": 35,
   "metadata": {},
   "outputs": [],
   "source": [
    "# 샘플 순서(정수 시퀀스)대로 정의\n",
    "encoder_input = encoder_input[int_ar]\n",
    "decoder_input = decoder_input[int_ar]\n",
    "decoder_target = decoder_target[int_ar]"
   ]
  },
  {
   "cell_type": "code",
   "execution_count": 36,
   "metadata": {},
   "outputs": [
    {
     "name": "stdout",
     "output_type": "stream",
     "text": [
      "테스트 데이터의 수 : 187\n"
     ]
    }
   ],
   "source": [
    "# 테스트 데이터 수 20% 확인\n",
    "n_of_val = int(len(encoder_input)*0.2)\n",
    "print('테스트 데이터의 수 :',n_of_val)"
   ]
  },
  {
   "cell_type": "code",
   "execution_count": 37,
   "metadata": {},
   "outputs": [
    {
     "name": "stdout",
     "output_type": "stream",
     "text": [
      "훈련 데이터의 개수 : 751\n",
      "훈련 레이블의 개수 : 751\n",
      "테스트 데이터의 개수 : 187\n",
      "테스트 레이블의 개수 : 187\n"
     ]
    }
   ],
   "source": [
    "# 데이터 분할 #\n",
    "# 학습 데이터 수 80% 로 할당\n",
    "encoder_input_train = encoder_input[:-n_of_val]\n",
    "decoder_input_train = decoder_input[:-n_of_val]\n",
    "decoder_target_train = decoder_target[:-n_of_val]\n",
    "\n",
    "# 테스트 데이터 수 20% 로 할당\n",
    "encoder_input_test = encoder_input[-n_of_val:]\n",
    "decoder_input_test = decoder_input[-n_of_val:]\n",
    "decoder_target_test = decoder_target[-n_of_val:]\n",
    "\n",
    "# 확인용\n",
    "print('훈련 데이터의 개수 :', len(encoder_input_train))\n",
    "print('훈련 레이블의 개수 :',len(decoder_input_train))\n",
    "print('테스트 데이터의 개수 :',len(encoder_input_test))\n",
    "print('테스트 레이블의 개수 :',len(decoder_input_test))"
   ]
  },
  {
   "cell_type": "markdown",
   "metadata": {},
   "source": [
    "## 토큰화\n",
    "\n",
    "### 텍스트 데이터 단어 집합 만들기 및 토큰화\n",
    "\n",
    "- 빈도 분석을 위한 토큰화\n",
    "- 빈도 분석\n",
    "- 위 결과를 바탕으로 다시 토큰화 진행"
   ]
  },
  {
   "cell_type": "code",
   "execution_count": 38,
   "metadata": {},
   "outputs": [],
   "source": [
    "# 단어 빈도 확인 및 단어 집합 만들기\n",
    "\n",
    "# 함수 선언\n",
    "src_tokenizer = Tokenizer()\n",
    "\n",
    "# 텍스트 데이터로 단어집합 만들기\n",
    "src_tokenizer.fit_on_texts(encoder_input_train)  # 문자 데이터를 입력받아서 토큰화된 리스트의 형태로 변환"
   ]
  },
  {
   "cell_type": "code",
   "execution_count": 49,
   "metadata": {},
   "outputs": [
    {
     "name": "stdout",
     "output_type": "stream",
     "text": [
      "단어 집합(vocabulary)의 크기 : 3961\n",
      "등장 빈도가 1번 이하인 희귀 단어의 수 : 1839\n",
      "단어 집합에서 희귀 단어를 제외시킬 경우의 단어 집합의 크기 : 2122\n",
      "단어 집합에서 희귀 단어의 비율: 46.42766978035849\n",
      "전체 등장 빈도에서 희귀 단어 등장 빈도 비율: 8.312991592080282\n"
     ]
    }
   ],
   "source": [
    "# 등장 빈도수가 n회 미만인 단어들이 이 데이터에서 얼만큼의 비중을 차지하는지 확인\n",
    "threshold = 2                               # 확인할 단어의 수\n",
    "total_cnt = len(src_tokenizer.word_index)   # 총 단어의 수\n",
    "rare_cnt = 0                                # 빈도수가 threshold보다 작은 단어의 수\n",
    "total_freq = 0                              # 훈련 데이터의 전체 단어 빈도수 총 합\n",
    "rare_freq = 0                               # 등장 빈도수가 threshold보다 작은 단어의 등장 빈도수의 총 합\n",
    "\n",
    "# 단어와 빈도수의 쌍(pair)을 key와 value로 받는다.\n",
    "for key, value in src_tokenizer.word_counts.items():\n",
    "    total_freq = total_freq + value\n",
    "\n",
    "    # 단어의 등장 빈도수가 threshold보다 작으면\n",
    "    if(value < threshold):\n",
    "        rare_cnt = rare_cnt + 1\n",
    "        rare_freq = rare_freq + value\n",
    "\n",
    "# 원래는 비율을 확인하여 토큰화 과정에서 제거하고 토큰화를 하지만 제거하긴에 1000개의 데이터에선 적은 빈도의 단어를 제거하기 힘들어 보임\n",
    "print('단어 집합(vocabulary)의 크기 :',total_cnt)\n",
    "print('등장 빈도가 %s번 이하인 희귀 단어의 수 : %s'%(threshold - 1, rare_cnt))\n",
    "print('단어 집합에서 희귀 단어를 제외시킬 경우의 단어 집합의 크기 : %s'%(total_cnt - rare_cnt))\n",
    "print(\"단어 집합에서 희귀 단어의 비율:\", (rare_cnt / total_cnt)*100)\n",
    "print(\"전체 등장 빈도에서 희귀 단어 등장 빈도 비율:\", (rare_freq / total_freq)*100)"
   ]
  },
  {
   "cell_type": "code",
   "execution_count": 50,
   "metadata": {},
   "outputs": [],
   "source": [
    "# n회 미만인 단어들은 정수 인코딩 과정에서 배제\n",
    "# 적은 빈도의 단어를 제거 후 하는 과정이라면 아래 주석처리된 토큰화를 진행\n",
    "#src_vocab = total_cnt - rare_cnt  # 단어집합 크기\n",
    "#src_tokenizer = Tokenizer(num_words = src_vocab)  # 단어 빈도가 많은 순서로 num_words개의 단어를 보존\n",
    "\n",
    "# 제거없이 토큰화\n",
    "src_tokenizer = Tokenizer()\n",
    "src_tokenizer.fit_on_texts(encoder_input_train)   # 문자 데이터를 입력받아서 리스트의 형태로 변환 # 키-값 형태\n",
    "\n",
    "# 텍스트 시퀀스를 정수 시퀀스로 변환\n",
    "encoder_input_train = src_tokenizer.texts_to_sequences(encoder_input_train)\n",
    "encoder_input_test = src_tokenizer.texts_to_sequences(encoder_input_test)"
   ]
  },
  {
   "cell_type": "markdown",
   "metadata": {},
   "source": [
    "### 서머리 데이터 단어 집합 만들기 및 토큰화\n",
    "\n",
    "- 빈도 분석을 위한 토큰화\n",
    "- 빈도 분석\n",
    "- 위 결과를 바탕으로 다시 토큰화 진행"
   ]
  },
  {
   "cell_type": "code",
   "execution_count": 51,
   "metadata": {},
   "outputs": [],
   "source": [
    "# 디코드 인풋\n",
    "tar_tokenizer = Tokenizer()\n",
    "tar_tokenizer.fit_on_texts(decoder_input_train)"
   ]
  },
  {
   "cell_type": "code",
   "execution_count": 53,
   "metadata": {},
   "outputs": [
    {
     "name": "stdout",
     "output_type": "stream",
     "text": [
      "단어 집합(vocabulary)의 크기 : 853\n",
      "등장 빈도가 1번 이하인 희귀 단어의 수 : 536\n",
      "단어 집합에서 희귀 단어를 제외시킬 경우의 단어 집합의 크기 : 317\n",
      "단어 집합에서 희귀 단어의 비율 : 62.83704572098476\n",
      "전체 등장 빈도에서 희귀 단어 등장 빈도 비율 : 15.248933143669985\n"
     ]
    }
   ],
   "source": [
    "# 등장 빈도수가 n회 미만인 단어들이 이 데이터에서 얼만큼의 비중을 차지하는지 확인\n",
    "threshold = 2                              # 확인할 단어의 수\n",
    "total_cnt = len(tar_tokenizer.word_index)  # 단어의 수\n",
    "rare_cnt = 0                               # 등장 빈도수가 threshold보다 작은 단어의 개수를 카운트\n",
    "total_freq = 0                             # 훈련 데이터의 전체 단어 빈도수 총 합\n",
    "rare_freq = 0                              # 등장 빈도수가 threshold보다 작은 단어의 등장 빈도수의 총 합\n",
    "\n",
    "# 단어와 빈도수의 쌍(pair)을 key와 value로 받는다.\n",
    "for key, value in tar_tokenizer.word_counts.items():\n",
    "    total_freq = total_freq + value\n",
    "\n",
    "    # 단어의 등장 빈도수가 threshold보다 작으면\n",
    "    if(value < threshold):\n",
    "        rare_cnt = rare_cnt + 1\n",
    "        rare_freq = rare_freq + value\n",
    "\n",
    "# 서머리도 원래는 비율을 확인하여 토큰화 과정에서 제거하고 토큰화를 하지만 제거하긴에 1000개의 데이터에선 적은 빈도의 단어를 제거하기 힘들어 보임\n",
    "print('단어 집합(vocabulary)의 크기 :',total_cnt)\n",
    "print('등장 빈도가 %s번 이하인 희귀 단어의 수 : %s'%(threshold - 1, rare_cnt))\n",
    "print('단어 집합에서 희귀 단어를 제외시킬 경우의 단어 집합의 크기 : %s'%(total_cnt - rare_cnt))\n",
    "print(\"단어 집합에서 희귀 단어의 비율 :\", (rare_cnt / total_cnt)*100)\n",
    "print(\"전체 등장 빈도에서 희귀 단어 등장 빈도 비율 :\", (rare_freq / total_freq)*100)"
   ]
  },
  {
   "cell_type": "code",
   "execution_count": 54,
   "metadata": {},
   "outputs": [],
   "source": [
    "# n회 미만인 단어들은 정수 인코딩 과정에서 배제\n",
    "# 적은 빈도의 단어를 제거 후 하는 과정이라면 아래 주석처리된 토큰화를 진행\n",
    "#tar_vocab = total_cnt - rare_cnt\n",
    "#tar_tokenizer = Tokenizer(num_words = tar_vocab)  # 단어 빈도가 많은 순서로 num_words개의 단어를 보존\n",
    "\n",
    "#제거 없이 토큰화\n",
    "tar_tokenizer = Tokenizer()\n",
    "\n",
    "# 토큰화\n",
    "tar_tokenizer.fit_on_texts(decoder_input_train)\n",
    "tar_tokenizer.fit_on_texts(decoder_target_train)\n",
    "\n",
    "# 학습 데이터 텍스트 시퀀스를 정수 시퀀스로 변환\n",
    "decoder_input_train = tar_tokenizer.texts_to_sequences(decoder_input_train) \n",
    "decoder_target_train = tar_tokenizer.texts_to_sequences(decoder_target_train)\n",
    "\n",
    "# 테스트 데이터 텍스트 시퀀스를 정수 시퀀스로 변환\n",
    "decoder_input_test = tar_tokenizer.texts_to_sequences(decoder_input_test)\n",
    "decoder_target_test = tar_tokenizer.texts_to_sequences(decoder_target_test)"
   ]
  },
  {
   "cell_type": "markdown",
   "metadata": {},
   "source": [
    "### 데이터 처리\n",
    "\n",
    "모델을 시작(start)과 끝(end)을 나타내는 추가된 단어 때문에 문장의 인덱스 길이가 1이 됨. 이를 제거."
   ]
  },
  {
   "cell_type": "code",
   "execution_count": 55,
   "metadata": {},
   "outputs": [
    {
     "name": "stdout",
     "output_type": "stream",
     "text": [
      "삭제할 훈련 데이터의 개수 : 0\n",
      "삭제할 테스트 데이터의 개수 : 5\n"
     ]
    }
   ],
   "source": [
    "# 길이가 1인 데이터를 따로 저장\n",
    "drop_train = [index for index, sentence in enumerate(decoder_input_train) if len(sentence) == 1]\n",
    "drop_test = [index for index, sentence in enumerate(decoder_input_test) if len(sentence) == 1]\n",
    "\n",
    "# 확인용\n",
    "print('삭제할 훈련 데이터의 개수 :',len(drop_train))\n",
    "print('삭제할 테스트 데이터의 개수 :',len(drop_test))"
   ]
  },
  {
   "cell_type": "code",
   "execution_count": 56,
   "metadata": {},
   "outputs": [
    {
     "name": "stdout",
     "output_type": "stream",
     "text": [
      "훈련 데이터의 개수 : 751\n",
      "훈련 레이블의 개수 : 751\n",
      "테스트 데이터의 개수 : 182\n",
      "테스트 레이블의 개수 : 182\n"
     ]
    },
    {
     "name": "stderr",
     "output_type": "stream",
     "text": [
      "c:\\Users\\clown\\.conda\\envs\\tf_test\\lib\\site-packages\\numpy\\lib\\function_base.py:5030: VisibleDeprecationWarning: Creating an ndarray from ragged nested sequences (which is a list-or-tuple of lists-or-tuples-or ndarrays with different lengths or shapes) is deprecated. If you meant to do this, you must specify 'dtype=object' when creating the ndarray.\n",
      "  arr = asarray(arr)\n"
     ]
    }
   ],
   "source": [
    "# 결측지 제거\n",
    "encoder_input_train = np.delete(encoder_input_train, drop_train, axis=0)\n",
    "decoder_input_train = np.delete(decoder_input_train, drop_train, axis=0)\n",
    "decoder_target_train = np.delete(decoder_target_train, drop_train, axis=0)\n",
    "\n",
    "encoder_input_test = np.delete(encoder_input_test, drop_test, axis=0)\n",
    "decoder_input_test = np.delete(decoder_input_test, drop_test, axis=0)\n",
    "decoder_target_test = np.delete(decoder_target_test, drop_test, axis=0)\n",
    "\n",
    "# 확인용\n",
    "print('훈련 데이터의 개수 :', len(encoder_input_train))\n",
    "print('훈련 레이블의 개수 :',len(decoder_input_train))\n",
    "print('테스트 데이터의 개수 :',len(encoder_input_test))\n",
    "print('테스트 레이블의 개수 :',len(decoder_input_test))"
   ]
  },
  {
   "cell_type": "markdown",
   "metadata": {},
   "source": [
    "## 패딩\n",
    "\n",
    "병렬 연산을 위해서 여러 문장의 길이를 임의로 동일하게 맞춰주는 작업"
   ]
  },
  {
   "cell_type": "code",
   "execution_count": 57,
   "metadata": {},
   "outputs": [],
   "source": [
    "# 이 길이는 boxplot 이상치 확인 부분에서 정했던 길이\n",
    "text_max_len = 100\n",
    "summary_max_len = 10\n",
    "\n",
    "# 패딩\n",
    "encoder_input_train = pad_sequences(encoder_input_train, maxlen = text_max_len, padding='post')\n",
    "encoder_input_test = pad_sequences(encoder_input_test, maxlen = text_max_len, padding='post')\n",
    "\n",
    "decoder_input_train = pad_sequences(decoder_input_train, maxlen = summary_max_len, padding='post')\n",
    "decoder_target_train = pad_sequences(decoder_target_train, maxlen = summary_max_len, padding='post')\n",
    "\n",
    "decoder_input_test = pad_sequences(decoder_input_test, maxlen = summary_max_len, padding='post')\n",
    "decoder_target_test = pad_sequences(decoder_target_test, maxlen = summary_max_len, padding='post')"
   ]
  },
  {
   "cell_type": "markdown",
   "metadata": {},
   "source": [
    "## 모델링 및 훈련\n",
    "\n",
    "- 어텐션 메커니즘 : 손실되는 RNN의 은닉상태의 정보들을위해, 모든 은닉 상태들을 다시 한 번 참고하기위해 사용"
   ]
  },
  {
   "cell_type": "code",
   "execution_count": 58,
   "metadata": {},
   "outputs": [],
   "source": [
    "from tensorflow.keras.layers import Input, LSTM, Embedding, Dense, Concatenate, Bidirectional, Dropout, AdditiveAttention\n",
    "from tensorflow.keras import Input, Model\n",
    "from tensorflow.keras.callbacks import EarlyStopping, ModelCheckpoint\n",
    "import tensorflow as tf\n",
    "from tensorflow.keras import optimizers\n",
    "import os"
   ]
  },
  {
   "cell_type": "code",
   "execution_count": 59,
   "metadata": {},
   "outputs": [
    {
     "name": "stdout",
     "output_type": "stream",
     "text": [
      "WARNING:tensorflow:Layer lstm will not use cuDNN kernels since it doesn't meet the criteria. It will use a generic GPU kernel as fallback when running on GPU.\n",
      "WARNING:tensorflow:Layer lstm_1 will not use cuDNN kernels since it doesn't meet the criteria. It will use a generic GPU kernel as fallback when running on GPU.\n",
      "WARNING:tensorflow:Layer lstm_2 will not use cuDNN kernels since it doesn't meet the criteria. It will use a generic GPU kernel as fallback when running on GPU.\n"
     ]
    }
   ],
   "source": [
    "# 입력층과 임베딩 층 설정\n",
    "embedding_dim = 128\n",
    "hidden_size = 256\n",
    "\n",
    "# 인코더\n",
    "encoder_inputs = Input(shape=(text_max_len,)) # 위에 설정\n",
    "\n",
    "# 인코더의 임베딩 층\n",
    "enc_emb = Embedding(3961, embedding_dim)(encoder_inputs) # 128차원으로 임베딩 # 3961은 위에 토큰화과정에서 나온 단어 집합의 크기\n",
    "\n",
    "# 인코더의 LSTM 1\n",
    "encoder_lstm1 = LSTM(hidden_size, return_sequences=True, return_state=True ,dropout = 0.4, recurrent_dropout = 0.4)\n",
    "encoder_output1, state_h1, state_c1 = encoder_lstm1(enc_emb)\n",
    "\n",
    "# 인코더의 LSTM 2\n",
    "## 두번째 층 위로 쌓을 예정 그래서 리터 시퀀스가 True\n",
    "encoder_lstm2 = LSTM(hidden_size, return_sequences=True, return_state=True, dropout=0.4, recurrent_dropout=0.4)\n",
    "encoder_output2, state_h2, state_c2 = encoder_lstm2(encoder_output1)\n",
    "\n",
    "# 인코더의 LSTM 3\n",
    "encoder_lstm3 = LSTM(hidden_size, return_state=True, return_sequences=True, dropout=0.4, recurrent_dropout=0.4)\n",
    "encoder_outputs, state_h, state_c= encoder_lstm3(encoder_output2)"
   ]
  },
  {
   "cell_type": "code",
   "execution_count": 60,
   "metadata": {},
   "outputs": [
    {
     "name": "stdout",
     "output_type": "stream",
     "text": [
      "WARNING:tensorflow:Layer lstm_3 will not use cuDNN kernels since it doesn't meet the criteria. It will use a generic GPU kernel as fallback when running on GPU.\n"
     ]
    }
   ],
   "source": [
    "# 디코더 설정 #\n",
    "decoder_inputs = Input(shape=(None,))\n",
    "\n",
    "# 디코더의 임베딩 층\n",
    "dec_emb_layer = Embedding(853, embedding_dim)\n",
    "dec_emb = dec_emb_layer(decoder_inputs)\n",
    "\n",
    "# 디코더의 LSTM\n",
    "decoder_lstm = LSTM(hidden_size, return_sequences = True, return_state = True, dropout = 0.4, recurrent_dropout=0.2)\n",
    "decoder_outputs, _, _ = decoder_lstm(dec_emb, initial_state = [state_h, state_c])"
   ]
  },
  {
   "cell_type": "code",
   "execution_count": 61,
   "metadata": {},
   "outputs": [
    {
     "name": "stdout",
     "output_type": "stream",
     "text": [
      "Model: \"model\"\n",
      "__________________________________________________________________________________________________\n",
      "Layer (type)                    Output Shape         Param #     Connected to                     \n",
      "==================================================================================================\n",
      "input_1 (InputLayer)            [(None, 100)]        0                                            \n",
      "__________________________________________________________________________________________________\n",
      "embedding (Embedding)           (None, 100, 128)     507008      input_1[0][0]                    \n",
      "__________________________________________________________________________________________________\n",
      "lstm (LSTM)                     [(None, 100, 256), ( 394240      embedding[0][0]                  \n",
      "__________________________________________________________________________________________________\n",
      "input_2 (InputLayer)            [(None, None)]       0                                            \n",
      "__________________________________________________________________________________________________\n",
      "lstm_1 (LSTM)                   [(None, 100, 256), ( 525312      lstm[0][0]                       \n",
      "__________________________________________________________________________________________________\n",
      "embedding_1 (Embedding)         (None, None, 128)    109184      input_2[0][0]                    \n",
      "__________________________________________________________________________________________________\n",
      "lstm_2 (LSTM)                   [(None, 100, 256), ( 525312      lstm_1[0][0]                     \n",
      "__________________________________________________________________________________________________\n",
      "lstm_3 (LSTM)                   [(None, None, 256),  394240      embedding_1[0][0]                \n",
      "                                                                 lstm_2[0][1]                     \n",
      "                                                                 lstm_2[0][2]                     \n",
      "__________________________________________________________________________________________________\n",
      "dense (Dense)                   (None, None, 3961)   1017977     lstm_3[0][0]                     \n",
      "==================================================================================================\n",
      "Total params: 3,473,273\n",
      "Trainable params: 3,473,273\n",
      "Non-trainable params: 0\n",
      "__________________________________________________________________________________________________\n"
     ]
    }
   ],
   "source": [
    "# 디코더의 출력층\n",
    "decoder_softmax_layer = Dense(3961, activation = 'softmax')\n",
    "decoder_softmax_outputs = decoder_softmax_layer(decoder_outputs) \n",
    "\n",
    "# 모델 정의\n",
    "model = Model([encoder_inputs, decoder_inputs], decoder_softmax_outputs)\n",
    "model.summary()"
   ]
  },
  {
   "cell_type": "code",
   "execution_count": 67,
   "metadata": {},
   "outputs": [
    {
     "name": "stdout",
     "output_type": "stream",
     "text": [
      "Model: \"model_1\"\n",
      "__________________________________________________________________________________________________\n",
      "Layer (type)                    Output Shape         Param #     Connected to                     \n",
      "==================================================================================================\n",
      "input_1 (InputLayer)            [(None, 100)]        0                                            \n",
      "__________________________________________________________________________________________________\n",
      "embedding (Embedding)           (None, 100, 128)     507008      input_1[0][0]                    \n",
      "__________________________________________________________________________________________________\n",
      "lstm (LSTM)                     [(None, 100, 256), ( 394240      embedding[0][0]                  \n",
      "__________________________________________________________________________________________________\n",
      "input_2 (InputLayer)            [(None, None)]       0                                            \n",
      "__________________________________________________________________________________________________\n",
      "lstm_1 (LSTM)                   [(None, 100, 256), ( 525312      lstm[0][0]                       \n",
      "__________________________________________________________________________________________________\n",
      "embedding_1 (Embedding)         (None, None, 128)    109184      input_2[0][0]                    \n",
      "__________________________________________________________________________________________________\n",
      "lstm_2 (LSTM)                   [(None, 100, 256), ( 525312      lstm_1[0][0]                     \n",
      "__________________________________________________________________________________________________\n",
      "lstm_3 (LSTM)                   [(None, None, 256),  394240      embedding_1[0][0]                \n",
      "                                                                 lstm_2[0][1]                     \n",
      "                                                                 lstm_2[0][2]                     \n",
      "__________________________________________________________________________________________________\n",
      "attention_layer (AttentionLayer ((None, None, 256),  131328      lstm_2[0][0]                     \n",
      "                                                                 lstm_3[0][0]                     \n",
      "__________________________________________________________________________________________________\n",
      "concat_layer (Concatenate)      (None, None, 512)    0           lstm_3[0][0]                     \n",
      "                                                                 attention_layer[0][0]            \n",
      "__________________________________________________________________________________________________\n",
      "dense_1 (Dense)                 (None, None, 3961)   2031993     concat_layer[0][0]               \n",
      "==================================================================================================\n",
      "Total params: 4,618,617\n",
      "Trainable params: 4,618,617\n",
      "Non-trainable params: 0\n",
      "__________________________________________________________________________________________________\n"
     ]
    }
   ],
   "source": [
    "from Attention import AttentionLayer\n",
    "\n",
    "# 어텐션 층(어텐션 함수)\n",
    "attn_layer = AttentionLayer(name='attention_layer')\n",
    "attn_out, attn_states = attn_layer([encoder_outputs, decoder_outputs])\n",
    "\n",
    "# 어텐션의 결과와 디코더의 hidden state들을 연결\n",
    "decoder_concat_input = Concatenate(axis = -1, name='concat_layer')([decoder_outputs, attn_out])\n",
    "\n",
    "# 디코더의 출력층\n",
    "decoder_softmax_layer = Dense(3961, activation='softmax')\n",
    "decoder_softmax_outputs = decoder_softmax_layer(decoder_concat_input)\n",
    "\n",
    "# 모델 정의\n",
    "model = Model([encoder_inputs, decoder_inputs], decoder_softmax_outputs)\n",
    "model.summary()"
   ]
  },
  {
   "cell_type": "code",
   "execution_count": 68,
   "metadata": {},
   "outputs": [],
   "source": [
    "model.compile(optimizer='rmsprop', loss='sparse_categorical_crossentropy')"
   ]
  },
  {
   "cell_type": "code",
   "execution_count": 71,
   "metadata": {},
   "outputs": [
    {
     "name": "stdout",
     "output_type": "stream",
     "text": [
      "Epoch 1/50\n",
      "94/94 [==============================] - 841s 9s/step - loss: 3.0571 - val_loss: 1.9194\n",
      "Epoch 2/50\n",
      "94/94 [==============================] - 843s 9s/step - loss: 2.4058 - val_loss: 1.8514\n",
      "Epoch 3/50\n",
      "94/94 [==============================] - 847s 9s/step - loss: 2.2912 - val_loss: 1.8382\n",
      "Epoch 4/50\n",
      "94/94 [==============================] - 678s 7s/step - loss: 2.2237 - val_loss: 1.8554\n",
      "Epoch 5/50\n",
      "94/94 [==============================] - 328s 3s/step - loss: 2.1761 - val_loss: 1.8689\n",
      "Epoch 00005: early stopping\n"
     ]
    }
   ],
   "source": [
    "es = EarlyStopping(monitor='val_loss', mode='min', verbose=1, patience = 2)\n",
    "\n",
    "history = model.fit(\n",
    "    x = [encoder_input_train, decoder_input_train], \n",
    "    y = decoder_target_train, \n",
    "    validation_data = ([encoder_input_test, decoder_input_test], decoder_target_test), \n",
    "    batch_size = 8, callbacks=[es], epochs = 50)"
   ]
  },
  {
   "cell_type": "code",
   "execution_count": 72,
   "metadata": {},
   "outputs": [
    {
     "data": {
      "image/png": "[encoded data removed]",
      "text/plain": [
       "<Figure size 432x288 with 1 Axes>"
      ]
     },
     "metadata": {
      "needs_background": "light"
     },
     "output_type": "display_data"
    }
   ],
   "source": [
    "import matplotlib.pyplot as plt\n",
    "\n",
    "plt.plot(history.history['loss'], label='train')\n",
    "plt.plot(history.history['val_loss'], label='test')\n",
    "plt.legend()\n",
    "plt.show()"
   ]
  },
  {
   "cell_type": "code",
   "execution_count": null,
   "metadata": {},
   "outputs": [],
   "source": []
  }
 ],
 "metadata": {
  "kernelspec": {
   "display_name": "Python 3.9.12 ('tf_test')",
   "language": "python",
   "name": "python3"
  },
  "language_info": {
   "codemirror_mode": {
    "name": "ipython",
    "version": 3
   },
   "file_extension": ".py",
   "mimetype": "text/x-python",
   "name": "python",
   "nbconvert_exporter": "python",
   "pygments_lexer": "ipython3",
   "version": "3.9.12"
  },
  "orig_nbformat": 4,
  "vscode": {
   "interpreter": {
    "hash": "21a5b7bc51baccf869a6b89c58a9d21b24a8177f8227e1042d68214d2f8fc3b4"
   }
  }
 },
 "nbformat": 4,
 "nbformat_minor": 2
}
