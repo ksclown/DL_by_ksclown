{
 "cells": [
  {
   "cell_type": "markdown",
   "metadata": {},
   "source": [
    "<span style=\"color:grey\"> By Seongchan Kang </span>\n",
    "\n",
    "<span style=\"color:grey\"> Version : Python 3.10.1 in Window </span>\n",
    "\n",
    "# Text Summarize 실습\n",
    "\n",
    "아마존 리뷰 데이터를 통해 긴 텍스트를 문장에서 요약하는 딥러닝 모델을 만들기\n",
    "\n",
    "트랜스포머(어택션)를 활용하여 적용\n",
    "\n",
    "데이터는 캐글에서 가져옴 (URL : <span> https://www.kaggle.com/snap/amazon-fine-food-reviews </span>)\n",
    "\n",
    "그외 참고 사이트\n",
    " - <span> https://wikidocs.net/24996 </span>\n",
    " - <span> https://settlelib.tistory.com/56 </span>\n",
    " - <span> https://towardsdatascience.com/text-normalization-for-natural-language-processing-nlp-70a314bfa646 </span>\n",
    " - <span> https://glee1228.tistory.com/3 </span>\n",
    "\n",
    "\n",
    "# 대략적인 과정\n",
    "\n",
    "1. 텍스트 데이터 가져오기\n",
    "\n",
    "2. 텍스트 데이터 전처리  \n",
    "\n",
    "3. 딥러닝 모델 설계\n",
    "\n",
    "4. 어택션 메커니즘 적용\n",
    "\n",
    "5. 평가 및 적용\n",
    "\n",
    "# Seq2Seq 와 어택션 메커니즘\n",
    "\n",
    "기존 seq2seq은 디코더를 고정된 사이즈의 Context Vector로 받아 인코더로 변환하는 것\n",
    "\n",
    "하지만 이 모델의 단점은 사이즈가 커지면 모든 정보를 담지 못한다는 것이 있음\n",
    "\n",
    "어택션 메커니즘은 이 모델의 한계를 해결하기 위한 방안\n",
    "\n",
    "그래서 어택션 메커니즘에 대해 간단히 말하면 각각의 입력되는 데이터에 가중치를 더하는 방법\n",
    "\n",
    "집중해야할 단어에 대한 메커니즘에 대한 설계가 가능해짐\n",
    "\n",
    "이런 전체적인 메커니즘을 가능하게 하기 위해 값이 잘못된 방향을 가고 있을 때 다시 정답으로 넣어 주는 과정이 필요 (Teacher Forcing이라고 함)\n",
    "\n",
    "이것(Teacher Forcing)이 모델의 학습과 효율을 향상 시킴\n",
    "\n",
    "\n",
    "## 데이터 가져오기\n",
    "\n",
    "모든 데이터를 한번에 학습시키고 모델링하면 시간이 오랙 걸림\n",
    "\n",
    "그래서 1000개의 데이터만 우선 뽑아서 실습\n",
    "\n",
    "변수 설명\n",
    "- 'Id' : 단순 넘버링을 위한 값\n",
    "- 'ProductId' : 아마존에서 파는 제품의 번호\n",
    "- 'UserId' : 암호화된 유저 아이디\n",
    "- 'ProfileName' : 유저의 닉네임\n",
    "- 'HelpfulnessNumerator' : 리뷰를 본 사람들 중에 이 리뷰가 유용하다고 한 사람의 수\n",
    "- 'HelpfulnessDenominator' : 리뷰를 본 전체 사람의 수\n",
    "- 'Score' : 리뷰어가 남긴 점수\n",
    "- 'Time' : 리뷰어가 리뷰를 작성한 시점의 시간(Unix timestamp)(https://www.daleseo.com/python-time/)\n",
    "- 'Summary' : \"Text\"변수를 요약한 것\n",
    "- 'Text' : Reriews 본문"
   ]
  },
  {
   "cell_type": "code",
   "execution_count": 81,
   "metadata": {},
   "outputs": [],
   "source": [
    "# 기본 라이브러리 불러오기\n",
    "import numpy as np\n",
    "import pandas as pd\n",
    "import matplotlib.pyplot as plt"
   ]
  },
  {
   "cell_type": "code",
   "execution_count": 40,
   "metadata": {},
   "outputs": [
    {
     "data": {
      "text/html": [
       "<div>\n",
       "<style scoped>\n",
       "    .dataframe tbody tr th:only-of-type {\n",
       "        vertical-align: middle;\n",
       "    }\n",
       "\n",
       "    .dataframe tbody tr th {\n",
       "        vertical-align: top;\n",
       "    }\n",
       "\n",
       "    .dataframe thead th {\n",
       "        text-align: right;\n",
       "    }\n",
       "</style>\n",
       "<table border=\"1\" class=\"dataframe\">\n",
       "  <thead>\n",
       "    <tr style=\"text-align: right;\">\n",
       "      <th></th>\n",
       "      <th>Id</th>\n",
       "      <th>ProductId</th>\n",
       "      <th>UserId</th>\n",
       "      <th>ProfileName</th>\n",
       "      <th>HelpfulnessNumerator</th>\n",
       "      <th>HelpfulnessDenominator</th>\n",
       "      <th>Score</th>\n",
       "      <th>Time</th>\n",
       "      <th>Summary</th>\n",
       "      <th>Text</th>\n",
       "    </tr>\n",
       "  </thead>\n",
       "  <tbody>\n",
       "    <tr>\n",
       "      <th>0</th>\n",
       "      <td>1</td>\n",
       "      <td>B001E4KFG0</td>\n",
       "      <td>A3SGXH7AUHU8GW</td>\n",
       "      <td>delmartian</td>\n",
       "      <td>1</td>\n",
       "      <td>1</td>\n",
       "      <td>5</td>\n",
       "      <td>1303862400</td>\n",
       "      <td>Good Quality Dog Food</td>\n",
       "      <td>I have bought several of the Vitality canned d...</td>\n",
       "    </tr>\n",
       "    <tr>\n",
       "      <th>1</th>\n",
       "      <td>2</td>\n",
       "      <td>B00813GRG4</td>\n",
       "      <td>A1D87F6ZCVE5NK</td>\n",
       "      <td>dll pa</td>\n",
       "      <td>0</td>\n",
       "      <td>0</td>\n",
       "      <td>1</td>\n",
       "      <td>1346976000</td>\n",
       "      <td>Not as Advertised</td>\n",
       "      <td>Product arrived labeled as Jumbo Salted Peanut...</td>\n",
       "    </tr>\n",
       "    <tr>\n",
       "      <th>2</th>\n",
       "      <td>3</td>\n",
       "      <td>B000LQOCH0</td>\n",
       "      <td>ABXLMWJIXXAIN</td>\n",
       "      <td>Natalia Corres \"Natalia Corres\"</td>\n",
       "      <td>1</td>\n",
       "      <td>1</td>\n",
       "      <td>4</td>\n",
       "      <td>1219017600</td>\n",
       "      <td>\"Delight\" says it all</td>\n",
       "      <td>This is a confection that has been around a fe...</td>\n",
       "    </tr>\n",
       "    <tr>\n",
       "      <th>3</th>\n",
       "      <td>4</td>\n",
       "      <td>B000UA0QIQ</td>\n",
       "      <td>A395BORC6FGVXV</td>\n",
       "      <td>Karl</td>\n",
       "      <td>3</td>\n",
       "      <td>3</td>\n",
       "      <td>2</td>\n",
       "      <td>1307923200</td>\n",
       "      <td>Cough Medicine</td>\n",
       "      <td>If you are looking for the secret ingredient i...</td>\n",
       "    </tr>\n",
       "    <tr>\n",
       "      <th>4</th>\n",
       "      <td>5</td>\n",
       "      <td>B006K2ZZ7K</td>\n",
       "      <td>A1UQRSCLF8GW1T</td>\n",
       "      <td>Michael D. Bigham \"M. Wassir\"</td>\n",
       "      <td>0</td>\n",
       "      <td>0</td>\n",
       "      <td>5</td>\n",
       "      <td>1350777600</td>\n",
       "      <td>Great taffy</td>\n",
       "      <td>Great taffy at a great price.  There was a wid...</td>\n",
       "    </tr>\n",
       "    <tr>\n",
       "      <th>...</th>\n",
       "      <td>...</td>\n",
       "      <td>...</td>\n",
       "      <td>...</td>\n",
       "      <td>...</td>\n",
       "      <td>...</td>\n",
       "      <td>...</td>\n",
       "      <td>...</td>\n",
       "      <td>...</td>\n",
       "      <td>...</td>\n",
       "      <td>...</td>\n",
       "    </tr>\n",
       "    <tr>\n",
       "      <th>995</th>\n",
       "      <td>996</td>\n",
       "      <td>B006F2NYI2</td>\n",
       "      <td>A1D3F6UI1RTXO0</td>\n",
       "      <td>Swopes</td>\n",
       "      <td>1</td>\n",
       "      <td>1</td>\n",
       "      <td>5</td>\n",
       "      <td>1331856000</td>\n",
       "      <td>Hot &amp; Flavorful</td>\n",
       "      <td>BLACK MARKET HOT SAUCE IS WONDERFUL.... My hus...</td>\n",
       "    </tr>\n",
       "    <tr>\n",
       "      <th>996</th>\n",
       "      <td>997</td>\n",
       "      <td>B006F2NYI2</td>\n",
       "      <td>AF50D40Y85TV3</td>\n",
       "      <td>Mike A.</td>\n",
       "      <td>1</td>\n",
       "      <td>1</td>\n",
       "      <td>5</td>\n",
       "      <td>1328140800</td>\n",
       "      <td>Great Hot Sauce and people who run it!</td>\n",
       "      <td>Man what can i say, this salsa is the bomb!! i...</td>\n",
       "    </tr>\n",
       "    <tr>\n",
       "      <th>997</th>\n",
       "      <td>998</td>\n",
       "      <td>B006F2NYI2</td>\n",
       "      <td>A3G313KLWDG3PW</td>\n",
       "      <td>kefka82</td>\n",
       "      <td>1</td>\n",
       "      <td>1</td>\n",
       "      <td>5</td>\n",
       "      <td>1324252800</td>\n",
       "      <td>this sauce is the shiznit</td>\n",
       "      <td>this sauce is so good with just about anything...</td>\n",
       "    </tr>\n",
       "    <tr>\n",
       "      <th>998</th>\n",
       "      <td>999</td>\n",
       "      <td>B006F2NYI2</td>\n",
       "      <td>A3NIDDT7E7JIFW</td>\n",
       "      <td>V. B. Brookshaw</td>\n",
       "      <td>1</td>\n",
       "      <td>2</td>\n",
       "      <td>1</td>\n",
       "      <td>1336089600</td>\n",
       "      <td>Not Hot</td>\n",
       "      <td>Not hot at all. Like the other low star review...</td>\n",
       "    </tr>\n",
       "    <tr>\n",
       "      <th>999</th>\n",
       "      <td>1000</td>\n",
       "      <td>B006F2NYI2</td>\n",
       "      <td>A132DJVI37RB4X</td>\n",
       "      <td>Scottdrum</td>\n",
       "      <td>2</td>\n",
       "      <td>5</td>\n",
       "      <td>2</td>\n",
       "      <td>1332374400</td>\n",
       "      <td>Not hot, not habanero</td>\n",
       "      <td>I have to admit, I was a sucker for the large ...</td>\n",
       "    </tr>\n",
       "  </tbody>\n",
       "</table>\n",
       "<p>1000 rows × 10 columns</p>\n",
       "</div>"
      ],
      "text/plain": [
       "       Id   ProductId          UserId                      ProfileName  \\\n",
       "0       1  B001E4KFG0  A3SGXH7AUHU8GW                       delmartian   \n",
       "1       2  B00813GRG4  A1D87F6ZCVE5NK                           dll pa   \n",
       "2       3  B000LQOCH0   ABXLMWJIXXAIN  Natalia Corres \"Natalia Corres\"   \n",
       "3       4  B000UA0QIQ  A395BORC6FGVXV                             Karl   \n",
       "4       5  B006K2ZZ7K  A1UQRSCLF8GW1T    Michael D. Bigham \"M. Wassir\"   \n",
       "..    ...         ...             ...                              ...   \n",
       "995   996  B006F2NYI2  A1D3F6UI1RTXO0                           Swopes   \n",
       "996   997  B006F2NYI2   AF50D40Y85TV3                          Mike A.   \n",
       "997   998  B006F2NYI2  A3G313KLWDG3PW                          kefka82   \n",
       "998   999  B006F2NYI2  A3NIDDT7E7JIFW                  V. B. Brookshaw   \n",
       "999  1000  B006F2NYI2  A132DJVI37RB4X                        Scottdrum   \n",
       "\n",
       "     HelpfulnessNumerator  HelpfulnessDenominator  Score        Time  \\\n",
       "0                       1                       1      5  1303862400   \n",
       "1                       0                       0      1  1346976000   \n",
       "2                       1                       1      4  1219017600   \n",
       "3                       3                       3      2  1307923200   \n",
       "4                       0                       0      5  1350777600   \n",
       "..                    ...                     ...    ...         ...   \n",
       "995                     1                       1      5  1331856000   \n",
       "996                     1                       1      5  1328140800   \n",
       "997                     1                       1      5  1324252800   \n",
       "998                     1                       2      1  1336089600   \n",
       "999                     2                       5      2  1332374400   \n",
       "\n",
       "                                    Summary  \\\n",
       "0                     Good Quality Dog Food   \n",
       "1                         Not as Advertised   \n",
       "2                     \"Delight\" says it all   \n",
       "3                            Cough Medicine   \n",
       "4                               Great taffy   \n",
       "..                                      ...   \n",
       "995                         Hot & Flavorful   \n",
       "996  Great Hot Sauce and people who run it!   \n",
       "997               this sauce is the shiznit   \n",
       "998                                 Not Hot   \n",
       "999                   Not hot, not habanero   \n",
       "\n",
       "                                                  Text  \n",
       "0    I have bought several of the Vitality canned d...  \n",
       "1    Product arrived labeled as Jumbo Salted Peanut...  \n",
       "2    This is a confection that has been around a fe...  \n",
       "3    If you are looking for the secret ingredient i...  \n",
       "4    Great taffy at a great price.  There was a wid...  \n",
       "..                                                 ...  \n",
       "995  BLACK MARKET HOT SAUCE IS WONDERFUL.... My hus...  \n",
       "996  Man what can i say, this salsa is the bomb!! i...  \n",
       "997  this sauce is so good with just about anything...  \n",
       "998  Not hot at all. Like the other low star review...  \n",
       "999  I have to admit, I was a sucker for the large ...  \n",
       "\n",
       "[1000 rows x 10 columns]"
      ]
     },
     "execution_count": 40,
     "metadata": {},
     "output_type": "execute_result"
    }
   ],
   "source": [
    "review_df = pd.read_csv(\"Reviews.csv\", nrows = 1000)\n",
    "review_df"
   ]
  },
  {
   "cell_type": "code",
   "execution_count": 41,
   "metadata": {},
   "outputs": [
    {
     "data": {
      "text/html": [
       "<div>\n",
       "<style scoped>\n",
       "    .dataframe tbody tr th:only-of-type {\n",
       "        vertical-align: middle;\n",
       "    }\n",
       "\n",
       "    .dataframe tbody tr th {\n",
       "        vertical-align: top;\n",
       "    }\n",
       "\n",
       "    .dataframe thead th {\n",
       "        text-align: right;\n",
       "    }\n",
       "</style>\n",
       "<table border=\"1\" class=\"dataframe\">\n",
       "  <thead>\n",
       "    <tr style=\"text-align: right;\">\n",
       "      <th></th>\n",
       "      <th>Text</th>\n",
       "      <th>Summary</th>\n",
       "    </tr>\n",
       "  </thead>\n",
       "  <tbody>\n",
       "    <tr>\n",
       "      <th>0</th>\n",
       "      <td>I have bought several of the Vitality canned d...</td>\n",
       "      <td>Good Quality Dog Food</td>\n",
       "    </tr>\n",
       "    <tr>\n",
       "      <th>1</th>\n",
       "      <td>Product arrived labeled as Jumbo Salted Peanut...</td>\n",
       "      <td>Not as Advertised</td>\n",
       "    </tr>\n",
       "    <tr>\n",
       "      <th>2</th>\n",
       "      <td>This is a confection that has been around a fe...</td>\n",
       "      <td>\"Delight\" says it all</td>\n",
       "    </tr>\n",
       "    <tr>\n",
       "      <th>3</th>\n",
       "      <td>If you are looking for the secret ingredient i...</td>\n",
       "      <td>Cough Medicine</td>\n",
       "    </tr>\n",
       "    <tr>\n",
       "      <th>4</th>\n",
       "      <td>Great taffy at a great price.  There was a wid...</td>\n",
       "      <td>Great taffy</td>\n",
       "    </tr>\n",
       "    <tr>\n",
       "      <th>...</th>\n",
       "      <td>...</td>\n",
       "      <td>...</td>\n",
       "    </tr>\n",
       "    <tr>\n",
       "      <th>995</th>\n",
       "      <td>BLACK MARKET HOT SAUCE IS WONDERFUL.... My hus...</td>\n",
       "      <td>Hot &amp; Flavorful</td>\n",
       "    </tr>\n",
       "    <tr>\n",
       "      <th>996</th>\n",
       "      <td>Man what can i say, this salsa is the bomb!! i...</td>\n",
       "      <td>Great Hot Sauce and people who run it!</td>\n",
       "    </tr>\n",
       "    <tr>\n",
       "      <th>997</th>\n",
       "      <td>this sauce is so good with just about anything...</td>\n",
       "      <td>this sauce is the shiznit</td>\n",
       "    </tr>\n",
       "    <tr>\n",
       "      <th>998</th>\n",
       "      <td>Not hot at all. Like the other low star review...</td>\n",
       "      <td>Not Hot</td>\n",
       "    </tr>\n",
       "    <tr>\n",
       "      <th>999</th>\n",
       "      <td>I have to admit, I was a sucker for the large ...</td>\n",
       "      <td>Not hot, not habanero</td>\n",
       "    </tr>\n",
       "  </tbody>\n",
       "</table>\n",
       "<p>1000 rows × 2 columns</p>\n",
       "</div>"
      ],
      "text/plain": [
       "                                                  Text  \\\n",
       "0    I have bought several of the Vitality canned d...   \n",
       "1    Product arrived labeled as Jumbo Salted Peanut...   \n",
       "2    This is a confection that has been around a fe...   \n",
       "3    If you are looking for the secret ingredient i...   \n",
       "4    Great taffy at a great price.  There was a wid...   \n",
       "..                                                 ...   \n",
       "995  BLACK MARKET HOT SAUCE IS WONDERFUL.... My hus...   \n",
       "996  Man what can i say, this salsa is the bomb!! i...   \n",
       "997  this sauce is so good with just about anything...   \n",
       "998  Not hot at all. Like the other low star review...   \n",
       "999  I have to admit, I was a sucker for the large ...   \n",
       "\n",
       "                                    Summary  \n",
       "0                     Good Quality Dog Food  \n",
       "1                         Not as Advertised  \n",
       "2                     \"Delight\" says it all  \n",
       "3                            Cough Medicine  \n",
       "4                               Great taffy  \n",
       "..                                      ...  \n",
       "995                         Hot & Flavorful  \n",
       "996  Great Hot Sauce and people who run it!  \n",
       "997               this sauce is the shiznit  \n",
       "998                                 Not Hot  \n",
       "999                   Not hot, not habanero  \n",
       "\n",
       "[1000 rows x 2 columns]"
      ]
     },
     "execution_count": 41,
     "metadata": {},
     "output_type": "execute_result"
    }
   ],
   "source": [
    "review_df = review_df[['Text','Summary']]\n",
    "review_df"
   ]
  },
  {
   "cell_type": "markdown",
   "metadata": {},
   "source": [
    "## 텍스트 데이터 전처리\n",
    "\n",
    "### 중복된 데이터 처리"
   ]
  },
  {
   "cell_type": "code",
   "execution_count": 42,
   "metadata": {},
   "outputs": [
    {
     "data": {
      "text/plain": [
       "0      False\n",
       "1      False\n",
       "2      False\n",
       "3      False\n",
       "4      False\n",
       "       ...  \n",
       "995    False\n",
       "996    False\n",
       "997    False\n",
       "998    False\n",
       "999    False\n",
       "Length: 1000, dtype: bool"
      ]
     },
     "execution_count": 42,
     "metadata": {},
     "output_type": "execute_result"
    }
   ],
   "source": [
    "# 중복 확인\n",
    "review_df.duplicated()"
   ]
  },
  {
   "cell_type": "code",
   "execution_count": 43,
   "metadata": {},
   "outputs": [
    {
     "data": {
      "text/html": [
       "<div>\n",
       "<style scoped>\n",
       "    .dataframe tbody tr th:only-of-type {\n",
       "        vertical-align: middle;\n",
       "    }\n",
       "\n",
       "    .dataframe tbody tr th {\n",
       "        vertical-align: top;\n",
       "    }\n",
       "\n",
       "    .dataframe thead th {\n",
       "        text-align: right;\n",
       "    }\n",
       "</style>\n",
       "<table border=\"1\" class=\"dataframe\">\n",
       "  <thead>\n",
       "    <tr style=\"text-align: right;\">\n",
       "      <th></th>\n",
       "      <th>Text</th>\n",
       "      <th>Summary</th>\n",
       "    </tr>\n",
       "  </thead>\n",
       "  <tbody>\n",
       "    <tr>\n",
       "      <th>0</th>\n",
       "      <td>I have bought several of the Vitality canned d...</td>\n",
       "      <td>Good Quality Dog Food</td>\n",
       "    </tr>\n",
       "    <tr>\n",
       "      <th>1</th>\n",
       "      <td>Product arrived labeled as Jumbo Salted Peanut...</td>\n",
       "      <td>Not as Advertised</td>\n",
       "    </tr>\n",
       "    <tr>\n",
       "      <th>2</th>\n",
       "      <td>This is a confection that has been around a fe...</td>\n",
       "      <td>\"Delight\" says it all</td>\n",
       "    </tr>\n",
       "    <tr>\n",
       "      <th>3</th>\n",
       "      <td>If you are looking for the secret ingredient i...</td>\n",
       "      <td>Cough Medicine</td>\n",
       "    </tr>\n",
       "    <tr>\n",
       "      <th>4</th>\n",
       "      <td>Great taffy at a great price.  There was a wid...</td>\n",
       "      <td>Great taffy</td>\n",
       "    </tr>\n",
       "    <tr>\n",
       "      <th>...</th>\n",
       "      <td>...</td>\n",
       "      <td>...</td>\n",
       "    </tr>\n",
       "    <tr>\n",
       "      <th>995</th>\n",
       "      <td>BLACK MARKET HOT SAUCE IS WONDERFUL.... My hus...</td>\n",
       "      <td>Hot &amp; Flavorful</td>\n",
       "    </tr>\n",
       "    <tr>\n",
       "      <th>996</th>\n",
       "      <td>Man what can i say, this salsa is the bomb!! i...</td>\n",
       "      <td>Great Hot Sauce and people who run it!</td>\n",
       "    </tr>\n",
       "    <tr>\n",
       "      <th>997</th>\n",
       "      <td>this sauce is so good with just about anything...</td>\n",
       "      <td>this sauce is the shiznit</td>\n",
       "    </tr>\n",
       "    <tr>\n",
       "      <th>998</th>\n",
       "      <td>Not hot at all. Like the other low star review...</td>\n",
       "      <td>Not Hot</td>\n",
       "    </tr>\n",
       "    <tr>\n",
       "      <th>999</th>\n",
       "      <td>I have to admit, I was a sucker for the large ...</td>\n",
       "      <td>Not hot, not habanero</td>\n",
       "    </tr>\n",
       "  </tbody>\n",
       "</table>\n",
       "<p>997 rows × 2 columns</p>\n",
       "</div>"
      ],
      "text/plain": [
       "                                                  Text  \\\n",
       "0    I have bought several of the Vitality canned d...   \n",
       "1    Product arrived labeled as Jumbo Salted Peanut...   \n",
       "2    This is a confection that has been around a fe...   \n",
       "3    If you are looking for the secret ingredient i...   \n",
       "4    Great taffy at a great price.  There was a wid...   \n",
       "..                                                 ...   \n",
       "995  BLACK MARKET HOT SAUCE IS WONDERFUL.... My hus...   \n",
       "996  Man what can i say, this salsa is the bomb!! i...   \n",
       "997  this sauce is so good with just about anything...   \n",
       "998  Not hot at all. Like the other low star review...   \n",
       "999  I have to admit, I was a sucker for the large ...   \n",
       "\n",
       "                                    Summary  \n",
       "0                     Good Quality Dog Food  \n",
       "1                         Not as Advertised  \n",
       "2                     \"Delight\" says it all  \n",
       "3                            Cough Medicine  \n",
       "4                               Great taffy  \n",
       "..                                      ...  \n",
       "995                         Hot & Flavorful  \n",
       "996  Great Hot Sauce and people who run it!  \n",
       "997               this sauce is the shiznit  \n",
       "998                                 Not Hot  \n",
       "999                   Not hot, not habanero  \n",
       "\n",
       "[997 rows x 2 columns]"
      ]
     },
     "execution_count": 43,
     "metadata": {},
     "output_type": "execute_result"
    }
   ],
   "source": [
    "# Text와 Summary 두 칼럼에서 중복되는 행중에 첫번째만 남겨두고 삭제\n",
    "review_df = review_df.drop_duplicates(keep = 'first')\n",
    "review_df"
   ]
  },
  {
   "cell_type": "code",
   "execution_count": 44,
   "metadata": {},
   "outputs": [
    {
     "data": {
      "text/html": [
       "<div>\n",
       "<style scoped>\n",
       "    .dataframe tbody tr th:only-of-type {\n",
       "        vertical-align: middle;\n",
       "    }\n",
       "\n",
       "    .dataframe tbody tr th {\n",
       "        vertical-align: top;\n",
       "    }\n",
       "\n",
       "    .dataframe thead th {\n",
       "        text-align: right;\n",
       "    }\n",
       "</style>\n",
       "<table border=\"1\" class=\"dataframe\">\n",
       "  <thead>\n",
       "    <tr style=\"text-align: right;\">\n",
       "      <th></th>\n",
       "      <th>Text</th>\n",
       "      <th>Summary</th>\n",
       "    </tr>\n",
       "  </thead>\n",
       "  <tbody>\n",
       "    <tr>\n",
       "      <th>0</th>\n",
       "      <td>I have bought several of the Vitality canned d...</td>\n",
       "      <td>Good Quality Dog Food</td>\n",
       "    </tr>\n",
       "    <tr>\n",
       "      <th>1</th>\n",
       "      <td>Product arrived labeled as Jumbo Salted Peanut...</td>\n",
       "      <td>Not as Advertised</td>\n",
       "    </tr>\n",
       "    <tr>\n",
       "      <th>2</th>\n",
       "      <td>This is a confection that has been around a fe...</td>\n",
       "      <td>\"Delight\" says it all</td>\n",
       "    </tr>\n",
       "    <tr>\n",
       "      <th>3</th>\n",
       "      <td>If you are looking for the secret ingredient i...</td>\n",
       "      <td>Cough Medicine</td>\n",
       "    </tr>\n",
       "    <tr>\n",
       "      <th>4</th>\n",
       "      <td>Great taffy at a great price.  There was a wid...</td>\n",
       "      <td>Great taffy</td>\n",
       "    </tr>\n",
       "    <tr>\n",
       "      <th>...</th>\n",
       "      <td>...</td>\n",
       "      <td>...</td>\n",
       "    </tr>\n",
       "    <tr>\n",
       "      <th>992</th>\n",
       "      <td>BLACK MARKET HOT SAUCE IS WONDERFUL.... My hus...</td>\n",
       "      <td>Hot &amp; Flavorful</td>\n",
       "    </tr>\n",
       "    <tr>\n",
       "      <th>993</th>\n",
       "      <td>Man what can i say, this salsa is the bomb!! i...</td>\n",
       "      <td>Great Hot Sauce and people who run it!</td>\n",
       "    </tr>\n",
       "    <tr>\n",
       "      <th>994</th>\n",
       "      <td>this sauce is so good with just about anything...</td>\n",
       "      <td>this sauce is the shiznit</td>\n",
       "    </tr>\n",
       "    <tr>\n",
       "      <th>995</th>\n",
       "      <td>Not hot at all. Like the other low star review...</td>\n",
       "      <td>Not Hot</td>\n",
       "    </tr>\n",
       "    <tr>\n",
       "      <th>996</th>\n",
       "      <td>I have to admit, I was a sucker for the large ...</td>\n",
       "      <td>Not hot, not habanero</td>\n",
       "    </tr>\n",
       "  </tbody>\n",
       "</table>\n",
       "<p>997 rows × 2 columns</p>\n",
       "</div>"
      ],
      "text/plain": [
       "                                                  Text  \\\n",
       "0    I have bought several of the Vitality canned d...   \n",
       "1    Product arrived labeled as Jumbo Salted Peanut...   \n",
       "2    This is a confection that has been around a fe...   \n",
       "3    If you are looking for the secret ingredient i...   \n",
       "4    Great taffy at a great price.  There was a wid...   \n",
       "..                                                 ...   \n",
       "992  BLACK MARKET HOT SAUCE IS WONDERFUL.... My hus...   \n",
       "993  Man what can i say, this salsa is the bomb!! i...   \n",
       "994  this sauce is so good with just about anything...   \n",
       "995  Not hot at all. Like the other low star review...   \n",
       "996  I have to admit, I was a sucker for the large ...   \n",
       "\n",
       "                                    Summary  \n",
       "0                     Good Quality Dog Food  \n",
       "1                         Not as Advertised  \n",
       "2                     \"Delight\" says it all  \n",
       "3                            Cough Medicine  \n",
       "4                               Great taffy  \n",
       "..                                      ...  \n",
       "992                         Hot & Flavorful  \n",
       "993  Great Hot Sauce and people who run it!  \n",
       "994               this sauce is the shiznit  \n",
       "995                                 Not Hot  \n",
       "996                   Not hot, not habanero  \n",
       "\n",
       "[997 rows x 2 columns]"
      ]
     },
     "execution_count": 44,
     "metadata": {},
     "output_type": "execute_result"
    }
   ],
   "source": [
    "# 인덱스를 다시 정렬\n",
    "review_df = review_df.reset_index(drop = True)\n",
    "review_df"
   ]
  },
  {
   "cell_type": "markdown",
   "metadata": {},
   "source": [
    "### 결측치 데이터 처리"
   ]
  },
  {
   "cell_type": "code",
   "execution_count": 45,
   "metadata": {},
   "outputs": [
    {
     "data": {
      "text/plain": [
       "Text       0\n",
       "Summary    0\n",
       "dtype: int64"
      ]
     },
     "execution_count": 45,
     "metadata": {},
     "output_type": "execute_result"
    }
   ],
   "source": [
    "# 결측치 확인\n",
    "review_df.isnull().sum()"
   ]
  },
  {
   "cell_type": "code",
   "execution_count": 46,
   "metadata": {},
   "outputs": [
    {
     "data": {
      "text/html": [
       "<div>\n",
       "<style scoped>\n",
       "    .dataframe tbody tr th:only-of-type {\n",
       "        vertical-align: middle;\n",
       "    }\n",
       "\n",
       "    .dataframe tbody tr th {\n",
       "        vertical-align: top;\n",
       "    }\n",
       "\n",
       "    .dataframe thead th {\n",
       "        text-align: right;\n",
       "    }\n",
       "</style>\n",
       "<table border=\"1\" class=\"dataframe\">\n",
       "  <thead>\n",
       "    <tr style=\"text-align: right;\">\n",
       "      <th></th>\n",
       "      <th>Text</th>\n",
       "      <th>Summary</th>\n",
       "    </tr>\n",
       "  </thead>\n",
       "  <tbody>\n",
       "    <tr>\n",
       "      <th>0</th>\n",
       "      <td>I have bought several of the Vitality canned d...</td>\n",
       "      <td>Good Quality Dog Food</td>\n",
       "    </tr>\n",
       "    <tr>\n",
       "      <th>1</th>\n",
       "      <td>Product arrived labeled as Jumbo Salted Peanut...</td>\n",
       "      <td>Not as Advertised</td>\n",
       "    </tr>\n",
       "    <tr>\n",
       "      <th>2</th>\n",
       "      <td>This is a confection that has been around a fe...</td>\n",
       "      <td>\"Delight\" says it all</td>\n",
       "    </tr>\n",
       "    <tr>\n",
       "      <th>3</th>\n",
       "      <td>If you are looking for the secret ingredient i...</td>\n",
       "      <td>Cough Medicine</td>\n",
       "    </tr>\n",
       "    <tr>\n",
       "      <th>4</th>\n",
       "      <td>Great taffy at a great price.  There was a wid...</td>\n",
       "      <td>Great taffy</td>\n",
       "    </tr>\n",
       "    <tr>\n",
       "      <th>...</th>\n",
       "      <td>...</td>\n",
       "      <td>...</td>\n",
       "    </tr>\n",
       "    <tr>\n",
       "      <th>992</th>\n",
       "      <td>BLACK MARKET HOT SAUCE IS WONDERFUL.... My hus...</td>\n",
       "      <td>Hot &amp; Flavorful</td>\n",
       "    </tr>\n",
       "    <tr>\n",
       "      <th>993</th>\n",
       "      <td>Man what can i say, this salsa is the bomb!! i...</td>\n",
       "      <td>Great Hot Sauce and people who run it!</td>\n",
       "    </tr>\n",
       "    <tr>\n",
       "      <th>994</th>\n",
       "      <td>this sauce is so good with just about anything...</td>\n",
       "      <td>this sauce is the shiznit</td>\n",
       "    </tr>\n",
       "    <tr>\n",
       "      <th>995</th>\n",
       "      <td>Not hot at all. Like the other low star review...</td>\n",
       "      <td>Not Hot</td>\n",
       "    </tr>\n",
       "    <tr>\n",
       "      <th>996</th>\n",
       "      <td>I have to admit, I was a sucker for the large ...</td>\n",
       "      <td>Not hot, not habanero</td>\n",
       "    </tr>\n",
       "  </tbody>\n",
       "</table>\n",
       "<p>997 rows × 2 columns</p>\n",
       "</div>"
      ],
      "text/plain": [
       "                                                  Text  \\\n",
       "0    I have bought several of the Vitality canned d...   \n",
       "1    Product arrived labeled as Jumbo Salted Peanut...   \n",
       "2    This is a confection that has been around a fe...   \n",
       "3    If you are looking for the secret ingredient i...   \n",
       "4    Great taffy at a great price.  There was a wid...   \n",
       "..                                                 ...   \n",
       "992  BLACK MARKET HOT SAUCE IS WONDERFUL.... My hus...   \n",
       "993  Man what can i say, this salsa is the bomb!! i...   \n",
       "994  this sauce is so good with just about anything...   \n",
       "995  Not hot at all. Like the other low star review...   \n",
       "996  I have to admit, I was a sucker for the large ...   \n",
       "\n",
       "                                    Summary  \n",
       "0                     Good Quality Dog Food  \n",
       "1                         Not as Advertised  \n",
       "2                     \"Delight\" says it all  \n",
       "3                            Cough Medicine  \n",
       "4                               Great taffy  \n",
       "..                                      ...  \n",
       "992                         Hot & Flavorful  \n",
       "993  Great Hot Sauce and people who run it!  \n",
       "994               this sauce is the shiznit  \n",
       "995                                 Not Hot  \n",
       "996                   Not hot, not habanero  \n",
       "\n",
       "[997 rows x 2 columns]"
      ]
     },
     "execution_count": 46,
     "metadata": {},
     "output_type": "execute_result"
    }
   ],
   "source": [
    "# 결측치 제거\n",
    "review_df = review_df.dropna()\n",
    "review_df"
   ]
  },
  {
   "cell_type": "code",
   "execution_count": 47,
   "metadata": {},
   "outputs": [
    {
     "data": {
      "text/plain": [
       "Text       0\n",
       "Summary    0\n",
       "dtype: int64"
      ]
     },
     "execution_count": 47,
     "metadata": {},
     "output_type": "execute_result"
    }
   ],
   "source": [
    "# 결측치 재확인\n",
    "review_df.isnull().sum()"
   ]
  },
  {
   "cell_type": "markdown",
   "metadata": {},
   "source": [
    "### 정제 및 정규화\n",
    "\n",
    "1. 정제(cleaning): 불필요한 단어 또는 문자를 제거\n",
    "2. 정규화(normalization): 같은 의미이면서 표현이 다른 단어를 통합\n",
    " - 규칙기반 정규화를 시키기엔 너무 많음 \n",
    " - 아래 참고 URL에 영어 규칙기반 정규화를 위한 딕셔너리가 있음\n",
    " - 참고 URL : <span> https://towardsdatascience.com/text-normalization-for-natural-language-processing-nlp-70a314bfa646 </span>"
   ]
  },
  {
   "cell_type": "code",
   "execution_count": 48,
   "metadata": {},
   "outputs": [],
   "source": [
    "# 필요시 주석 지우고 다운로드\n",
    "#%pip install nltk\n",
    "#%pip install bs4\n",
    "#%pip install autocorrect\n",
    "#%pip install lxml"
   ]
  },
  {
   "cell_type": "code",
   "execution_count": 49,
   "metadata": {},
   "outputs": [],
   "source": [
    "# 라이브러리 설치 및 불러오기\n",
    "from nltk.corpus import stopwords \n",
    "from nltk.stem import SnowballStemmer\n",
    "from bs4 import BeautifulSoup \n",
    "from autocorrect import Speller\n",
    "\n",
    "import nltk\n",
    "import re"
   ]
  },
  {
   "cell_type": "code",
   "execution_count": 50,
   "metadata": {},
   "outputs": [
    {
     "name": "stderr",
     "output_type": "stream",
     "text": [
      "[nltk_data] Downloading package stopwords to\n",
      "[nltk_data]     C:\\Users\\82108\\AppData\\Roaming\\nltk_data...\n",
      "[nltk_data]   Package stopwords is already up-to-date!\n",
      "[nltk_data] Downloading package punkt to\n",
      "[nltk_data]     C:\\Users\\82108\\AppData\\Roaming\\nltk_data...\n",
      "[nltk_data]   Package punkt is already up-to-date!\n"
     ]
    },
    {
     "data": {
      "text/plain": [
       "True"
      ]
     },
     "execution_count": 50,
     "metadata": {},
     "output_type": "execute_result"
    }
   ],
   "source": [
    "# 불용어 \n",
    "nltk.download('stopwords')\n",
    "nltk.download(\"punkt\")"
   ]
  },
  {
   "cell_type": "code",
   "execution_count": 51,
   "metadata": {},
   "outputs": [
    {
     "name": "stdout",
     "output_type": "stream",
     "text": [
      "불용어 개수 : 179\n"
     ]
    }
   ],
   "source": [
    "# 다운로드한 NLTK의 불용어\n",
    "stop_words = set(stopwords.words('english'))\n",
    "print('불용어 개수 :', len(stop_words))"
   ]
  },
  {
   "cell_type": "code",
   "execution_count": 69,
   "metadata": {},
   "outputs": [
    {
     "data": {
      "text/plain": [
       "re.compile(r\"(ain't|aren't|can't|'cause|could've|couldn't|didn't|doesn't|don't|hadn't|hasn't|haven't|he'd|he'll|he's|how'd|how'd'y|how'll|how's|I'd|I'd've|I'll|I'll've|I'm|I've|i'd|i'd've|i'll|i'll've|i'm|i've|isn't|it'd|it'd've|it'll|it'll've|it's|let's|ma'am|mayn't|might've|mightn't|mightn't've|must've|mustn't|mustn't've|needn't|needn't've|o'clock|oughtn't|oughtn't've|shan't|sha'n't|shan't've|she'd|she'd've|she'll|she'll've|she's|should've|shouldn't|shouldn't've|so've|so's|this's|that'd|that'd've|that's|there'd|there'd've|there's|here's|they'd|they'd've|they'll|they'll've|they're|they've|to've|wasn't|we'd|we'd've|we'll|we'll've|we're|we've|weren't|what'll|what'll've|what're|what's|what've|when's|when've|where'd|where's|where've|who'll|who'll've|who's|who've|why's|why've|will've|won't|won't've|would've|wouldn't|wouldn't've|y'all|y'all'd|y'all'd've|y'all're|y'all've|you'd|you'd've|you'll|you'll've|you're|you've)\",\n",
       "           re.UNICODE)"
      ]
     },
     "execution_count": 69,
     "metadata": {},
     "output_type": "execute_result"
    }
   ],
   "source": [
    "# 위에 있는 URL에서 가져옴\n",
    "# 정규화를 위한 규칙 #\n",
    "contractions_dict = {\n",
    "  \"ain't\": \"is not\", \"aren't\": \"are not\",\"can't\": \"cannot\", \"'cause\": \"because\", \"could've\": \"could have\",\n",
    "  \"couldn't\": \"could not\", \"didn't\": \"did not\",  \"doesn't\": \"does not\", \"don't\": \"do not\", \"hadn't\": \"had not\", \n",
    "  \"hasn't\": \"has not\", \"haven't\": \"have not\", \"he'd\": \"he would\",\"he'll\": \"he will\", \"he's\": \"he is\", \"how'd\": \"how did\", \n",
    "  \"how'd'y\": \"how do you\", \"how'll\": \"how will\", \"how's\": \"how is\", \"I'd\": \"I would\", \"I'd've\": \"I would have\", \n",
    "  \"I'll\": \"I will\", \"I'll've\": \"I will have\",\"I'm\": \"I am\", \"I've\": \"I have\", \"i'd\": \"i would\", \"i'd've\": \"i would have\", \n",
    "  \"i'll\": \"i will\",  \"i'll've\": \"i will have\",\"i'm\": \"i am\", \"i've\": \"i have\", \"isn't\": \"is not\", \"it'd\": \"it would\", \n",
    "  \"it'd've\": \"it would have\", \"it'll\": \"it will\", \"it'll've\": \"it will have\",\"it's\": \"it is\", \"let's\": \"let us\", \n",
    "  \"ma'am\": \"madam\", \"mayn't\": \"may not\", \"might've\": \"might have\",\"mightn't\": \"might not\",\"mightn't've\": \"might not have\", \n",
    "  \"must've\": \"must have\", \"mustn't\": \"must not\", \"mustn't've\": \"must not have\", \"needn't\": \"need not\", \n",
    "  \"needn't've\": \"need not have\",\"o'clock\": \"of the clock\", \"oughtn't\": \"ought not\", \"oughtn't've\": \"ought not have\", \n",
    "  \"shan't\": \"shall not\", \"sha'n't\": \"shall not\", \"shan't've\": \"shall not have\", \"she'd\": \"she would\", \n",
    "  \"she'd've\": \"she would have\", \"she'll\": \"she will\", \"she'll've\": \"she will have\", \"she's\": \"she is\", \n",
    "  \"should've\": \"should have\", \"shouldn't\": \"should not\", \"shouldn't've\": \"should not have\", \"so've\": \"so have\",\n",
    "  \"so's\": \"so as\", \"this's\": \"this is\",\"that'd\": \"that would\", \"that'd've\": \"that would have\", \"that's\": \"that is\", \n",
    "  \"there'd\": \"there would\", \"there'd've\": \"there would have\", \"there's\": \"there is\", \"here's\": \"here is\",\n",
    "  \"they'd\": \"they would\", \"they'd've\": \"they would have\", \"they'll\": \"they will\", \"they'll've\": \"they will have\", \n",
    "  \"they're\": \"they are\", \"they've\": \"they have\", \"to've\": \"to have\", \"wasn't\": \"was not\", \"we'd\": \"we would\", \n",
    "  \"we'd've\": \"we would have\", \"we'll\": \"we will\", \"we'll've\": \"we will have\", \"we're\": \"we are\", \"we've\": \"we have\", \n",
    "  \"weren't\": \"were not\", \"what'll\": \"what will\", \"what'll've\": \"what will have\", \"what're\": \"what are\", \"what's\": \"what is\", \n",
    "  \"what've\": \"what have\", \"when's\": \"when is\", \"when've\": \"when have\", \"where'd\": \"where did\", \"where's\": \"where is\", \n",
    "  \"where've\": \"where have\", \"who'll\": \"who will\", \"who'll've\": \"who will have\", \"who's\": \"who is\", \"who've\": \"who have\", \n",
    "  \"why's\": \"why is\", \"why've\": \"why have\", \"will've\": \"will have\", \"won't\": \"will not\", \"won't've\": \"will not have\", \n",
    "  \"would've\": \"would have\", \"wouldn't\": \"would not\", \"wouldn't've\": \"would not have\", \"y'all\": \"you all\", \n",
    "  \"y'all'd\": \"you all would\",\"y'all'd've\": \"you all would have\",\"y'all're\": \"you all are\",\"y'all've\": \"you all have\", \n",
    "  \"you'd\": \"you would\", \"you'd've\": \"you would have\", \"you'll\": \"you will\", \"you'll've\": \"you will have\", \"you're\": \"you are\", \n",
    "  \"you've\": \"you have\"\n",
    "  }\n",
    "\n",
    "## 키값 가져오기\n",
    "contractions_re = re.compile('(%s)'%'|'.join(contractions_dict.keys()))\n",
    "contractions_re # 확인용 1"
   ]
  },
  {
   "cell_type": "code",
   "execution_count": 70,
   "metadata": {},
   "outputs": [
    {
     "data": {
      "text/plain": [
       "'Hey, we are not employee and we cannot regist.'"
      ]
     },
     "execution_count": 70,
     "metadata": {},
     "output_type": "execute_result"
    }
   ],
   "source": [
    "# 확인용 2\n",
    "document = \"Hey, we aren't employees and we can't regist.\"\n",
    "\n",
    "document = ' '.join([contractions_dict[t] if t in contractions_dict else t for t in document.split(\" \")])\n",
    "\n",
    "document"
   ]
  },
  {
   "cell_type": "code",
   "execution_count": 71,
   "metadata": {},
   "outputs": [],
   "source": [
    "# 그냥 추가적으로 함수를 이용한 방법이라고 알고 있기\n",
    "\n",
    "## 정규화를 위한 함수 ##\n",
    "## 함수로 만들어서 사용하는게 오히려 하는데 시간이 오래걸림\n",
    "def expand_contractions(s, contractions_dict = contractions_dict) :\n",
    "    def replace(match) :\n",
    "        return contractions_dict[match.group(0)]\n",
    "    return contractions_re.sub(replace, s)\n",
    "\n",
    "## 토큰화 후 구두점 없애기 위한 함수 ##\n",
    "## 구두점은 단순히 함부로 없애기엔 한계가 있기에 적절히 상화에 맞춰서 사용\n",
    "def remove_punct(token):\n",
    "    return [word for word in token if word.isalpha()]"
   ]
  },
  {
   "cell_type": "code",
   "execution_count": 74,
   "metadata": {},
   "outputs": [],
   "source": [
    "# 위의 함수와 달리 이번 실습에서 직접 사용하는 코드 #\n",
    "## 스펠링 맞춤법 ##\n",
    "# https://www.delftstack.com/ko/howto/python/python-spell-checker/\n",
    "spell = Speller(lang = \"en\")\n",
    "\n",
    "\n",
    "# 전체 전처리 함수 #\n",
    "## re.sub（검색 패턴, 치환되는 텍스트, 치환할려는 텍스트）\n",
    "def preprocess_doc(document, remove_stopwords = True) :\n",
    "    ## 소문자로 변환\n",
    "    document = document.lower()\n",
    "\n",
    "    ## 괄호 없애기\n",
    "    document = BeautifulSoup(document, \"lxml\").text  # html 태그 제거 (<> ~~ <> 같은)\n",
    "    document = re.sub(r'\\([^)]*\\)', ' ', document)   # 괄호로 묶인 문자열 제거 \n",
    "\n",
    "    ## 정규화\n",
    "    ## 띄어쓰기로 구분한 문장을 규칙 안에 있는거면 정규화 아니면 다시 똑같이 내보내기\n",
    "    ## 딕셔너리로 되어있기 때문에 가능\n",
    "    document = ' '.join([contractions_dict[t] if t in contractions_dict else t for t in document.split(\" \")])   # 규칙기반 정규화    \n",
    "\n",
    "    ## 필요없는 내용 제거 (스테밍)\n",
    "    document = re.sub(r\"'s\\b\",\"\",document)           # 소유격 제거\n",
    "    document = re.sub('\"','', document)              # 큰따옴표 제거\n",
    "    document = re.sub(\"'\",'', document)              # 작은따옴표 제거\n",
    "    document = re.sub(\"[^a-zA-Z]\", \" \", document)    # 영어 외 문자 공백치환\n",
    "\n",
    "    ## 그외 전처리\n",
    "    document = spell(document)                       # 철자 수정\n",
    "\n",
    "    ## 불용어 처리 \n",
    "    ## '구분자'.join(리스트)\n",
    "    ## 문장을 구분하고 구분한 단어게 불용어가 아니고 공백이 아니면 join 불용어면 버리기\n",
    "    if remove_stopwords :                            # 불용어 제거 (Text)\n",
    "        tokens = ' '.join(word for word in document.split() if not word in stop_words if len(word) > 1)     \n",
    "    ## Summary에서 불용어 처리를 하지않는 이유는 요약 방법이 \"추상적 요약\"이기 때문\n",
    "    else :                                           # 불용어 미제거 (Summary)\n",
    "        tokens = ' '.join(word for word in document.split() if len(word) > 1)\n",
    "    return tokens"
   ]
  },
  {
   "cell_type": "code",
   "execution_count": 75,
   "metadata": {},
   "outputs": [
    {
     "data": {
      "text/plain": [
       "['bought several vitality canned dog food products found good quality product looks like stew processed meat smells better labrador finicky appreciates product better',\n",
       " 'product arrived labeled jumbo salted peanuts peanuts actually small sized unwanted sure error vendor intended represent product jumbo',\n",
       " 'connection around centuries light pillow citrus relation nuts case filters cut tiny squares liberally coated powdered sugar tiny youthful heaven chew flavorful highly recommend dummy treat familiar story lewis lion witch wardrobe treat seduces demand selling brother sisters witch',\n",
       " 'looking secret ingredient robitussin believe found got addition root beer extract ordered made cherry soda flavor medicinal',\n",
       " 'great staff great price wide assortment dummy staff delivery quick staff lover deal']"
      ]
     },
     "execution_count": 75,
     "metadata": {},
     "output_type": "execute_result"
    }
   ],
   "source": [
    "# Text 전처리 실행 #\n",
    "all_text = []\n",
    "\n",
    "## 텍스트 한문장씩 뽑아서 전처리후 all_text로 넣기\n",
    "for s in review_df['Text']:\n",
    "    all_text.append(preprocess_doc(s))\n",
    "\n",
    "all_text[:5]\n",
    "# 함수를 사용해서 처리했을 경우 약 1000개의 데이터는 4분 30초 정도 걸림\n",
    "# 하지만 한줄로 코드를 만들어서 처리한 경우 같은 데이터의 갯수도 약 2분 50초정도 걸림"
   ]
  },
  {
   "cell_type": "code",
   "execution_count": 76,
   "metadata": {},
   "outputs": [
    {
     "data": {
      "text/plain": [
       "['good quality dog food',\n",
       " 'not as advertised',\n",
       " 'delight says it all',\n",
       " 'cough medicine',\n",
       " 'great staff']"
      ]
     },
     "execution_count": 76,
     "metadata": {},
     "output_type": "execute_result"
    }
   ],
   "source": [
    "# Summary 모음\n",
    "all_summary = []\n",
    "\n",
    "for s in review_df['Summary']:\n",
    "    all_summary.append(preprocess_doc(s, 0))\n",
    "    \n",
    "all_summary[:5]\n",
    "\n",
    "# 이건 약 30초"
   ]
  },
  {
   "cell_type": "code",
   "execution_count": 77,
   "metadata": {},
   "outputs": [
    {
     "data": {
      "text/html": [
       "<div>\n",
       "<style scoped>\n",
       "    .dataframe tbody tr th:only-of-type {\n",
       "        vertical-align: middle;\n",
       "    }\n",
       "\n",
       "    .dataframe tbody tr th {\n",
       "        vertical-align: top;\n",
       "    }\n",
       "\n",
       "    .dataframe thead th {\n",
       "        text-align: right;\n",
       "    }\n",
       "</style>\n",
       "<table border=\"1\" class=\"dataframe\">\n",
       "  <thead>\n",
       "    <tr style=\"text-align: right;\">\n",
       "      <th></th>\n",
       "      <th>Text</th>\n",
       "      <th>Summary</th>\n",
       "    </tr>\n",
       "  </thead>\n",
       "  <tbody>\n",
       "    <tr>\n",
       "      <th>0</th>\n",
       "      <td>bought several vitality canned dog food produc...</td>\n",
       "      <td>good quality dog food</td>\n",
       "    </tr>\n",
       "    <tr>\n",
       "      <th>1</th>\n",
       "      <td>product arrived labeled jumbo salted peanuts p...</td>\n",
       "      <td>not as advertised</td>\n",
       "    </tr>\n",
       "    <tr>\n",
       "      <th>2</th>\n",
       "      <td>connection around centuries light pillow citru...</td>\n",
       "      <td>delight says it all</td>\n",
       "    </tr>\n",
       "    <tr>\n",
       "      <th>3</th>\n",
       "      <td>looking secret ingredient robitussin believe f...</td>\n",
       "      <td>cough medicine</td>\n",
       "    </tr>\n",
       "    <tr>\n",
       "      <th>4</th>\n",
       "      <td>great staff great price wide assortment dummy ...</td>\n",
       "      <td>great staff</td>\n",
       "    </tr>\n",
       "    <tr>\n",
       "      <th>...</th>\n",
       "      <td>...</td>\n",
       "      <td>...</td>\n",
       "    </tr>\n",
       "    <tr>\n",
       "      <th>992</th>\n",
       "      <td>black market hot sauce wonderful husband loves...</td>\n",
       "      <td>hot flavorful</td>\n",
       "    </tr>\n",
       "    <tr>\n",
       "      <th>993</th>\n",
       "      <td>man say salsa bomb different kinds almost ever...</td>\n",
       "      <td>great hot sauce and people who run it</td>\n",
       "    </tr>\n",
       "    <tr>\n",
       "      <th>994</th>\n",
       "      <td>sauce good anything like adding asian food any...</td>\n",
       "      <td>this sauce is the shiznit</td>\n",
       "    </tr>\n",
       "    <tr>\n",
       "      <th>995</th>\n",
       "      <td>hot like low star reviewer got suffered seeing...</td>\n",
       "      <td>not hot</td>\n",
       "    </tr>\n",
       "    <tr>\n",
       "      <th>996</th>\n",
       "      <td>admit sucker large quantity oz shopping hot sa...</td>\n",
       "      <td>not hot not habanero</td>\n",
       "    </tr>\n",
       "  </tbody>\n",
       "</table>\n",
       "<p>997 rows × 2 columns</p>\n",
       "</div>"
      ],
      "text/plain": [
       "                                                  Text  \\\n",
       "0    bought several vitality canned dog food produc...   \n",
       "1    product arrived labeled jumbo salted peanuts p...   \n",
       "2    connection around centuries light pillow citru...   \n",
       "3    looking secret ingredient robitussin believe f...   \n",
       "4    great staff great price wide assortment dummy ...   \n",
       "..                                                 ...   \n",
       "992  black market hot sauce wonderful husband loves...   \n",
       "993  man say salsa bomb different kinds almost ever...   \n",
       "994  sauce good anything like adding asian food any...   \n",
       "995  hot like low star reviewer got suffered seeing...   \n",
       "996  admit sucker large quantity oz shopping hot sa...   \n",
       "\n",
       "                                   Summary  \n",
       "0                    good quality dog food  \n",
       "1                        not as advertised  \n",
       "2                      delight says it all  \n",
       "3                           cough medicine  \n",
       "4                              great staff  \n",
       "..                                     ...  \n",
       "992                          hot flavorful  \n",
       "993  great hot sauce and people who run it  \n",
       "994              this sauce is the shiznit  \n",
       "995                                not hot  \n",
       "996                   not hot not habanero  \n",
       "\n",
       "[997 rows x 2 columns]"
      ]
     },
     "execution_count": 77,
     "metadata": {},
     "output_type": "execute_result"
    }
   ],
   "source": [
    "# 다시 저장\n",
    "review_df['Text'] = all_text\n",
    "review_df['Summary'] = all_summary\n",
    "review_df"
   ]
  },
  {
   "cell_type": "code",
   "execution_count": 78,
   "metadata": {},
   "outputs": [
    {
     "data": {
      "text/plain": [
       "Text       0\n",
       "Summary    0\n",
       "dtype: int64"
      ]
     },
     "execution_count": 78,
     "metadata": {},
     "output_type": "execute_result"
    }
   ],
   "source": [
    "review_df.isnull().sum()"
   ]
  },
  {
   "cell_type": "markdown",
   "metadata": {},
   "source": [
    "### 이상치 처리"
   ]
  },
  {
   "cell_type": "code",
   "execution_count": 79,
   "metadata": {},
   "outputs": [
    {
     "name": "stdout",
     "output_type": "stream",
     "text": [
      "Text 최소 길이 : 5\n",
      "Text 최대 길이 : 351\n",
      "Text 평균 길이 : 35.01103309929789\n",
      "Summary 최소 길이 : 0\n",
      "Summary 최대 길이 : 22\n",
      "Summary 평균 길이 : 3.982948846539619\n"
     ]
    }
   ],
   "source": [
    "# 길이 분포 출력 # \n",
    "## 문장 뽑아 구분한 뒤 길이만 출력하여 리스트로 저장\n",
    "t_len = [len(t.split()) for t in review_df['Text']]\n",
    "s_len = [len(s.split()) for s in review_df['Summary']]\n",
    "\n",
    "print('Text 최소 길이 : {}'.format(np.min(t_len)))\n",
    "print('Text 최대 길이 : {}'.format(np.max(t_len)))\n",
    "print('Text 평균 길이 : {}'.format(np.mean(t_len)))\n",
    "print('Summary 최소 길이 : {}'.format(np.min(s_len)))\n",
    "print('Summary 최대 길이 : {}'.format(np.max(s_len)))\n",
    "print('Summary 평균 길이 : {}'.format(np.mean(s_len)))"
   ]
  },
  {
   "cell_type": "code",
   "execution_count": 88,
   "metadata": {},
   "outputs": [
    {
     "data": {
      "image/png": "[encoded data removed]",
      "text/plain": [
       "<Figure size 432x288 with 2 Axes>"
      ]
     },
     "metadata": {
      "needs_background": "light"
     },
     "output_type": "display_data"
    }
   ],
   "source": [
    "# Text boxplot\n",
    "plt.subplot(1, 2, 1)\n",
    "plt.boxplot(t_len)\n",
    "plt.title('Text')\n",
    "\n",
    "# Summary boxplot\n",
    "plt.subplot(1, 2, 2)\n",
    "plt.boxplot(s_len)\n",
    "plt.title('Summary')\n",
    "\n",
    "plt.tight_layout()\n",
    "plt.show()"
   ]
  },
  {
   "cell_type": "code",
   "execution_count": 89,
   "metadata": {},
   "outputs": [
    {
     "data": {
      "image/png": "[encoded data removed]",
      "text/plain": [
       "<Figure size 432x288 with 2 Axes>"
      ]
     },
     "metadata": {
      "needs_background": "light"
     },
     "output_type": "display_data"
    },
    {
     "name": "stdout",
     "output_type": "stream",
     "text": [
      "처리하기 전 데이터수 : 997\n"
     ]
    }
   ],
   "source": [
    "# Text를 한눈에 확인이 어려워서 다시 hist로 확인\n",
    "# 보는김에 Summary도 같이 확인\n",
    "plt.subplot(1, 2, 1)\n",
    "plt.hist(t_len)\n",
    "plt.title('Text')\n",
    "\n",
    "plt.subplot(1, 2, 2)\n",
    "plt.hist(s_len)\n",
    "plt.title('Summary')\n",
    "\n",
    "plt.tight_layout()\n",
    "plt.show()\n",
    "\n",
    "print('처리하기 전 데이터수 :',(len(review_df)))"
   ]
  },
  {
   "cell_type": "code",
   "execution_count": 92,
   "metadata": {},
   "outputs": [
    {
     "data": {
      "text/html": [
       "<div>\n",
       "<style scoped>\n",
       "    .dataframe tbody tr th:only-of-type {\n",
       "        vertical-align: middle;\n",
       "    }\n",
       "\n",
       "    .dataframe tbody tr th {\n",
       "        vertical-align: top;\n",
       "    }\n",
       "\n",
       "    .dataframe thead th {\n",
       "        text-align: right;\n",
       "    }\n",
       "</style>\n",
       "<table border=\"1\" class=\"dataframe\">\n",
       "  <thead>\n",
       "    <tr style=\"text-align: right;\">\n",
       "      <th></th>\n",
       "      <th>Text</th>\n",
       "      <th>Summary</th>\n",
       "    </tr>\n",
       "  </thead>\n",
       "  <tbody>\n",
       "    <tr>\n",
       "      <th>0</th>\n",
       "      <td>bought several vitality canned dog food produc...</td>\n",
       "      <td>good quality dog food</td>\n",
       "    </tr>\n",
       "    <tr>\n",
       "      <th>1</th>\n",
       "      <td>product arrived labeled jumbo salted peanuts p...</td>\n",
       "      <td>not as advertised</td>\n",
       "    </tr>\n",
       "    <tr>\n",
       "      <th>2</th>\n",
       "      <td>connection around centuries light pillow citru...</td>\n",
       "      <td>delight says it all</td>\n",
       "    </tr>\n",
       "    <tr>\n",
       "      <th>3</th>\n",
       "      <td>looking secret ingredient robitussin believe f...</td>\n",
       "      <td>cough medicine</td>\n",
       "    </tr>\n",
       "    <tr>\n",
       "      <th>4</th>\n",
       "      <td>great staff great price wide assortment dummy ...</td>\n",
       "      <td>great staff</td>\n",
       "    </tr>\n",
       "    <tr>\n",
       "      <th>...</th>\n",
       "      <td>...</td>\n",
       "      <td>...</td>\n",
       "    </tr>\n",
       "    <tr>\n",
       "      <th>933</th>\n",
       "      <td>black market hot sauce wonderful husband loves...</td>\n",
       "      <td>hot flavorful</td>\n",
       "    </tr>\n",
       "    <tr>\n",
       "      <th>934</th>\n",
       "      <td>man say salsa bomb different kinds almost ever...</td>\n",
       "      <td>great hot sauce and people who run it</td>\n",
       "    </tr>\n",
       "    <tr>\n",
       "      <th>935</th>\n",
       "      <td>sauce good anything like adding asian food any...</td>\n",
       "      <td>this sauce is the shiznit</td>\n",
       "    </tr>\n",
       "    <tr>\n",
       "      <th>936</th>\n",
       "      <td>hot like low star reviewer got suffered seeing...</td>\n",
       "      <td>not hot</td>\n",
       "    </tr>\n",
       "    <tr>\n",
       "      <th>937</th>\n",
       "      <td>admit sucker large quantity oz shopping hot sa...</td>\n",
       "      <td>not hot not habanero</td>\n",
       "    </tr>\n",
       "  </tbody>\n",
       "</table>\n",
       "<p>938 rows × 2 columns</p>\n",
       "</div>"
      ],
      "text/plain": [
       "                                                  Text  \\\n",
       "0    bought several vitality canned dog food produc...   \n",
       "1    product arrived labeled jumbo salted peanuts p...   \n",
       "2    connection around centuries light pillow citru...   \n",
       "3    looking secret ingredient robitussin believe f...   \n",
       "4    great staff great price wide assortment dummy ...   \n",
       "..                                                 ...   \n",
       "933  black market hot sauce wonderful husband loves...   \n",
       "934  man say salsa bomb different kinds almost ever...   \n",
       "935  sauce good anything like adding asian food any...   \n",
       "936  hot like low star reviewer got suffered seeing...   \n",
       "937  admit sucker large quantity oz shopping hot sa...   \n",
       "\n",
       "                                   Summary  \n",
       "0                    good quality dog food  \n",
       "1                        not as advertised  \n",
       "2                      delight says it all  \n",
       "3                           cough medicine  \n",
       "4                              great staff  \n",
       "..                                     ...  \n",
       "933                          hot flavorful  \n",
       "934  great hot sauce and people who run it  \n",
       "935              this sauce is the shiznit  \n",
       "936                                not hot  \n",
       "937                   not hot not habanero  \n",
       "\n",
       "[938 rows x 2 columns]"
      ]
     },
     "execution_count": 92,
     "metadata": {},
     "output_type": "execute_result"
    }
   ],
   "source": [
    "# Boxplot 기준으로 이상치 제거 #\n",
    "\n",
    "# Text #\n",
    "review_df = review_df[review_df['Text'].apply(lambda x: len(x.split()) <= 100)]  # 100(최댓값에 근접한 숫자)을 기준으로 자르기\n",
    "review_df = review_df[review_df['Text'].apply(lambda x: len(x.split()) >= 5)]    # 5(텍스트 최소값)을 기준으로 자르기\n",
    "\n",
    "# Summary # \n",
    "review_df = review_df[review_df['Summary'].apply(lambda x: len(x.split()) <= 10)] # 10(최댓값에 근접한 숫자)을 기준으로 자르기\n",
    "review_df = review_df[review_df['Summary'].apply(lambda x: len(x.split()) >= 1)]  # 1(서머리 0을 미리 제거함)을 기준으로 자르기\n",
    "\n",
    "# 인덱스 다시 처리 후 확인 #\n",
    "review_df = review_df.reset_index(drop = True)\n",
    "review_df"
   ]
  },
  {
   "cell_type": "markdown",
   "metadata": {},
   "source": [
    "## 토큰화를 위한 작업"
   ]
  },
  {
   "cell_type": "code",
   "execution_count": null,
   "metadata": {},
   "outputs": [],
   "source": [
    "#%pip install tensorflow"
   ]
  },
  {
   "cell_type": "code",
   "execution_count": 100,
   "metadata": {},
   "outputs": [
    {
     "ename": "ModuleNotFoundError",
     "evalue": "No module named 'tensorflow'",
     "output_type": "error",
     "traceback": [
      "\u001b[1;31m---------------------------------------------------------------------------\u001b[0m",
      "\u001b[1;31mModuleNotFoundError\u001b[0m                       Traceback (most recent call last)",
      "\u001b[1;32mc:\\Users\\82108\\Desktop\\Study\\DL_by_ksclown\\DL_by_ksclown\\Text Summarize.ipynb 셀 33\u001b[0m in \u001b[0;36m<cell line: 2>\u001b[1;34m()\u001b[0m\n\u001b[0;32m      <a href='vscode-notebook-cell:/c%3A/Users/82108/Desktop/Study/DL_by_ksclown/DL_by_ksclown/Text%20Summarize.ipynb#ch0000037?line=0'>1</a>\u001b[0m \u001b[39m# 토큰화를 위한 라이브러리 불러오기\u001b[39;00m\n\u001b[1;32m----> <a href='vscode-notebook-cell:/c%3A/Users/82108/Desktop/Study/DL_by_ksclown/DL_by_ksclown/Text%20Summarize.ipynb#ch0000037?line=1'>2</a>\u001b[0m \u001b[39mfrom\u001b[39;00m \u001b[39mtensorflow\u001b[39;00m\u001b[39m.\u001b[39;00m\u001b[39mkeras\u001b[39;00m\u001b[39m.\u001b[39;00m\u001b[39mpreprocessing\u001b[39;00m\u001b[39m.\u001b[39;00m\u001b[39mtext\u001b[39;00m \u001b[39mimport\u001b[39;00m text_to_word_sequence\n\u001b[0;32m      <a href='vscode-notebook-cell:/c%3A/Users/82108/Desktop/Study/DL_by_ksclown/DL_by_ksclown/Text%20Summarize.ipynb#ch0000037?line=2'>3</a>\u001b[0m \u001b[39mfrom\u001b[39;00m \u001b[39mtensorflow\u001b[39;00m\u001b[39m.\u001b[39;00m\u001b[39mkeras\u001b[39;00m\u001b[39m.\u001b[39;00m\u001b[39mpreprocessing\u001b[39;00m\u001b[39m.\u001b[39;00m\u001b[39msequence\u001b[39;00m \u001b[39mimport\u001b[39;00m pad_sequences\n\u001b[0;32m      <a href='vscode-notebook-cell:/c%3A/Users/82108/Desktop/Study/DL_by_ksclown/DL_by_ksclown/Text%20Summarize.ipynb#ch0000037?line=3'>4</a>\u001b[0m \u001b[39mfrom\u001b[39;00m \u001b[39mkeras\u001b[39;00m\u001b[39m.\u001b[39;00m\u001b[39mpreprocessing\u001b[39;00m\u001b[39m.\u001b[39;00m\u001b[39mtext\u001b[39;00m \u001b[39mimport\u001b[39;00m Tokenizer\n",
      "\u001b[1;31mModuleNotFoundError\u001b[0m: No module named 'tensorflow'"
     ]
    }
   ],
   "source": [
    "# 토큰화를 위한 라이브러리 불러오기\n",
    "from tensorflow.keras.preprocessing.text import text_to_word_sequence\n",
    "from tensorflow.keras.preprocessing.sequence import pad_sequences\n",
    "from keras.preprocessing.text import Tokenizer"
   ]
  },
  {
   "cell_type": "code",
   "execution_count": 95,
   "metadata": {},
   "outputs": [
    {
     "data": {
      "text/plain": [
       "Text       object\n",
       "Summary    object\n",
       "dtype: object"
      ]
     },
     "execution_count": 95,
     "metadata": {},
     "output_type": "execute_result"
    }
   ],
   "source": [
    "# 데이터 타입 확인\n",
    "review_df.dtypes"
   ]
  },
  {
   "cell_type": "code",
   "execution_count": 96,
   "metadata": {},
   "outputs": [
    {
     "data": {
      "text/plain": [
       "Text       object\n",
       "Summary    object\n",
       "dtype: object"
      ]
     },
     "execution_count": 96,
     "metadata": {},
     "output_type": "execute_result"
    }
   ],
   "source": [
    "# 데이터 타입 str으로 변환\n",
    "review_df = review_df.astype('str')\n",
    "review_df.dtypes"
   ]
  },
  {
   "cell_type": "code",
   "execution_count": null,
   "metadata": {},
   "outputs": [],
   "source": []
  }
 ],
 "metadata": {
  "kernelspec": {
   "display_name": "Python 3.10.1 64-bit",
   "language": "python",
   "name": "python3"
  },
  "language_info": {
   "codemirror_mode": {
    "name": "ipython",
    "version": 3
   },
   "file_extension": ".py",
   "mimetype": "text/x-python",
   "name": "python",
   "nbconvert_exporter": "python",
   "pygments_lexer": "ipython3",
   "version": "3.10.1"
  },
  "orig_nbformat": 4,
  "vscode": {
   "interpreter": {
    "hash": "c5c2c3c852cea3612ae75d7177c7db88d742ce4c76218675a91b833287f5ecf2"
   }
  }
 },
 "nbformat": 4,
 "nbformat_minor": 2
}
